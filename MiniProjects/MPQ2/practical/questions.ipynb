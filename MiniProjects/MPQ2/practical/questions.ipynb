{
 "cells": [
  {
   "cell_type": "markdown",
   "metadata": {},
   "source": [
    "<div align=center>\n",
    "\t\t\n",
    "<p></p>\n",
    "<p></p>\n",
    "<font size=5>\n",
    "In the Name of God\n",
    "<font/>\n",
    "<p></p>\n",
    " <br/>\n",
    "    <br/>\n",
    "    <br/>\n",
    "<font color=#FF7500>\n",
    "Sharif University of Technology - Department of Computer Engineering\n",
    "</font>\n",
    "<p></p>\n",
    "<font color=blue>\n",
    "Artifical Intelligence - Dr. Mohammad Hossein Rohban\n",
    "</font>\n",
    "<br/>\n",
    "<br/>\n",
    "Fall 2021\n",
    "\n",
    "</div>\n",
    "\n",
    "<hr/>\n",
    "\t\t<div align=center>\n",
    "\t\t    <font color=red size=6>\n",
    "\t\t\t    <br />\n",
    "Practical Assignment 2\n",
    "            \t<br/>\n",
    "\t\t\t</font>\n",
    "    <br/>\n",
    "    <br/>\n",
    "<font size=4>\n",
    "\t\t\t<br/><br/>\n",
    "Deadline:  Aban 27th\n",
    "                <br/><b>\n",
    "              Cheating is Strongly Prohibited\n",
    "                </b><br/><br/>\n",
    "                <font color=red>\n",
    "Please run all the cells.\n",
    "     </font>\n",
    "</font>\n",
    "                <br/>\n",
    "    </div>"
   ]
  },
  {
   "cell_type": "markdown",
   "metadata": {},
   "source": [
    "# Personal Data"
   ]
  },
  {
   "cell_type": "code",
   "execution_count": 1,
   "metadata": {
    "collectable": true,
    "tags": []
   },
   "outputs": [],
   "source": [
    "# Set your student number\n",
    "student_number = 98101074\n",
    "Name = 'Mohammad Javad'\n",
    "Last_Name = 'Hezareh'"
   ]
  },
  {
   "cell_type": "markdown",
   "metadata": {},
   "source": [
    "# Rules\n",
    "- You are not allowed to add or remove cells. You **must use the provided space to write your code**. If you don't follow this rule, **your Practical Assignment won't be graded**. \n",
    "- There is one cell for your custom functions (if you need any) at the beginning of each question. Please note that this jupyter file might be broken down into 3 jupyter notebooks for easier grading, so you **must write your custom functions in the correct cell**.\n",
    "- By running the cell below, you can see if your jupyter file is accepted or not. This cell will also **generate a python file which you'll have to upload to Quera** (as well as your jupyter file). The python file will later be validated and if the code in both files doesn't match, **your Practical Assignment won't be graded**.\n",
    "- This assignment is due Aban 27th 23:59:59. you can use up to 10 grace days for this assignment and the hard deadline is Azar 7th 23:59:59."
   ]
  },
  {
   "cell_type": "code",
   "execution_count": 28,
   "metadata": {},
   "outputs": [
    {
     "name": "stdout",
     "output_type": "stream",
     "text": [
      "your jupyter file will be graded\n"
     ]
    }
   ],
   "source": [
    "# remember to save your jupyter file before running this script\n",
    "from Helper_codes.validator import *\n",
    "\n",
    "python_code = extract_python(\"./questions.ipynb\")\n",
    "with open(f'python_code_{student_number}.py', 'w') as file:\n",
    "    file.write(python_code)"
   ]
  },
  {
   "cell_type": "markdown",
   "metadata": {},
   "source": [
    "# Q1 (30 Points + 5 Extra Points)"
   ]
  },
  {
   "cell_type": "markdown",
   "metadata": {},
   "source": [
    "<font size=4>\n",
    "Author: Reza Amini\n",
    "\t\t\t<br/>\n",
    "                <font color=red>\n",
    "Please run all the cells.\n",
    "     </font>\n",
    "</font>\n",
    "                <br/>\n",
    "    </div>"
   ]
  },
  {
   "cell_type": "markdown",
   "metadata": {},
   "source": [
    "## Libraries"
   ]
  },
  {
   "cell_type": "code",
   "execution_count": 2,
   "metadata": {
    "collectable": true
   },
   "outputs": [],
   "source": [
    "import numpy as np\n",
    "from typing import Tuple\n",
    "from matplotlib import pyplot as plt"
   ]
  },
  {
   "cell_type": "markdown",
   "metadata": {},
   "source": [
    "<div>\n",
    "\t<font size=3>\n",
    "        <hr/>\n",
    "            In this part of the question, we want to implement the functions and draw diagrams and discuss about the convexity of functions\n",
    "           <hr/>\n",
    "    </font>\n",
    "</div>"
   ]
  },
  {
   "cell_type": "markdown",
   "metadata": {},
   "source": [
    "## Functions"
   ]
  },
  {
   "cell_type": "markdown",
   "metadata": {},
   "source": [
    "a)\n",
    "$f_1(x) = \\frac{x^2 cos(\\frac{x}{10}) - x}{100} \\quad $ where $\\quad x \\in [80, 110]$\n",
    "<br/>\n",
    "b)\n",
    "$f_2(x) = \\log (\\sqrt{sin \\frac{x}{20}}) \\quad $ where $\\quad x \\in [1, 60]$\n",
    "<br/>\n",
    "c)\n",
    "$f_3(x) = \\log (\\cos(x) + \\frac{45}{x}) \\quad $ where $\\quad x \\in [1, 45]$"
   ]
  },
  {
   "cell_type": "markdown",
   "metadata": {},
   "source": [
    "<div>\n",
    "    <font size=3>\n",
    "In the first step, implement the functions.\n",
    "     </font>\n",
    "</div>"
   ]
  },
  {
   "cell_type": "code",
   "execution_count": 3,
   "metadata": {
    "collectable": true
   },
   "outputs": [],
   "source": [
    "def f_1(x):\n",
    "    ############################################################\n",
    "    # (0.5 Points)                                             #\n",
    "    ############################################################\n",
    "    if x < 80 or x > 110:\n",
    "        return None\n",
    "    return (x**2 * np.cos(x/10) - x) / 100"
   ]
  },
  {
   "cell_type": "code",
   "execution_count": 4,
   "metadata": {
    "collectable": true
   },
   "outputs": [],
   "source": [
    "def f_2(x):\n",
    "    ############################################################\n",
    "    # (0.5 Points)                                             #\n",
    "    ############################################################\n",
    "    if x < 1 or x > 60:\n",
    "        return None\n",
    "    return np.log(np.sqrt(np.sin(x/20)))"
   ]
  },
  {
   "cell_type": "code",
   "execution_count": 5,
   "metadata": {
    "collectable": true
   },
   "outputs": [],
   "source": [
    "def f_3(x):\n",
    "    ############################################################\n",
    "    # (0.5 Points)                                             #\n",
    "    ############################################################\n",
    "    if x < 1 or x > 45:\n",
    "        return None\n",
    "    return np.log(np.cos(x) + 45/x)"
   ]
  },
  {
   "cell_type": "markdown",
   "metadata": {},
   "source": [
    "<div>\n",
    "    <font size=3>\n",
    "    Now implement a function to plot the mathematical functions\n",
    "     </font>\n",
    "</div>"
   ]
  },
  {
   "cell_type": "code",
   "execution_count": 6,
   "metadata": {
    "collectable": true
   },
   "outputs": [],
   "source": [
    "def draw(func, x_range):\n",
    "    ############################################################\n",
    "    # (0.5 Points)                                             #\n",
    "    ############################################################\n",
    "    values = list(map(lambda x: func(x), x_range))\n",
    "    plt.plot(x_range, values)"
   ]
  },
  {
   "cell_type": "code",
   "execution_count": 7,
   "metadata": {},
   "outputs": [
    {
     "data": {
      "image/png": "[encoded data removed]",
      "text/plain": [
       "<Figure size 432x288 with 1 Axes>"
      ]
     },
     "metadata": {
      "needs_background": "light"
     },
     "output_type": "display_data"
    }
   ],
   "source": [
    "draw(f_1, np.arange(80, 110 + 1))"
   ]
  },
  {
   "cell_type": "code",
   "execution_count": 8,
   "metadata": {},
   "outputs": [
    {
     "data": {
      "image/png": "[encoded data removed]",
      "text/plain": [
       "<Figure size 432x288 with 1 Axes>"
      ]
     },
     "metadata": {
      "needs_background": "light"
     },
     "output_type": "display_data"
    }
   ],
   "source": [
    "draw(f_2, np.arange(1, 60 + 1))"
   ]
  },
  {
   "cell_type": "code",
   "execution_count": 9,
   "metadata": {},
   "outputs": [
    {
     "data": {
      "image/png": "[encoded data removed]",
      "text/plain": [
       "<Figure size 432x288 with 1 Axes>"
      ]
     },
     "metadata": {
      "needs_background": "light"
     },
     "output_type": "display_data"
    }
   ],
   "source": [
    "draw(f_3, np.arange(1, 45 + 1))"
   ]
  },
  {
   "cell_type": "markdown",
   "metadata": {},
   "source": [
    "<div>\n",
    "    <font size=3>\n",
    "    Discuss the Convexity of each function according to the diagrams\n",
    "     </font>\n",
    "</div>"
   ]
  },
  {
   "cell_type": "markdown",
   "metadata": {},
   "source": [
    "<font color=blue>\n",
    "    (5 Points) <br/>\n",
    "    As its clear, f_1 is convex cause if we get x and y inside it's domain, then the value of this function in any point between x and y will be below than line connecting f_1(x) and f_2(y). Obviously f_2 and f_3 are not convex!\n",
    "</font>"
   ]
  },
  {
   "cell_type": "markdown",
   "metadata": {},
   "source": [
    "<div>\n",
    "    <font size=3>\n",
    "what method do you suggest to find the maximum in the second function?\n",
    "     </font>\n",
    "</div>"
   ]
  },
  {
   "cell_type": "markdown",
   "metadata": {},
   "source": [
    "<font color=blue>\n",
    "    (3 Points) <br/>\n",
    "Gradient descent will be usefull. But consider that we should use following formula to updat x: $x^{t+1} = x^t + \\eta \\nabla f$ where $\\eta$ is a positive small enough number such that algorithm converge.\n",
    "</font>"
   ]
  },
  {
   "cell_type": "markdown",
   "metadata": {},
   "source": [
    "<div>\n",
    "    <font size=3>\n",
    "        <hr/>\n",
    "        <ul>\n",
    "            In this part, we want to obtain a minimum of one of the above functions with the gradiant descent algorithm\n",
    "        </ul>  \n",
    "        <hr/>\n",
    "    </font>\n",
    "</div>"
   ]
  },
  {
   "cell_type": "markdown",
   "metadata": {},
   "source": [
    "## Gradiant descent"
   ]
  },
  {
   "cell_type": "markdown",
   "metadata": {},
   "source": [
    "<div>\n",
    "    <font size=3>\n",
    "    Complete gradiant descent function and calculate the minimum of function (a).\n",
    "     </font>\n",
    "</div>"
   ]
  },
  {
   "cell_type": "code",
   "execution_count": 10,
   "metadata": {
    "collectable": true
   },
   "outputs": [],
   "source": [
    "def gradiant_descent(func, initial_point: float, learning_rate: float, max_iterations: int):\n",
    "    ############################################################\n",
    "    # (7 Points)                                              #\n",
    "    ############################################################\n",
    "    h = 0.00001\n",
    "    x = initial_point\n",
    "    for _ in range(max_iterations):\n",
    "        derivative = (func(x+h)-func(x))/h\n",
    "        if derivative == 0:\n",
    "            break\n",
    "        x -= learning_rate * derivative\n",
    "    \n",
    "    return x"
   ]
  },
  {
   "cell_type": "code",
   "execution_count": 11,
   "metadata": {},
   "outputs": [
    {
     "data": {
      "text/plain": [
       "96.30594122697187"
      ]
     },
     "execution_count": 11,
     "metadata": {},
     "output_type": "execute_result"
    }
   ],
   "source": [
    "gradiant_descent(\n",
    "    func=f_1, \n",
    "    initial_point=np.random.uniform(80, 110), \n",
    "    learning_rate=0.05, \n",
    "    max_iterations=1000\n",
    ")"
   ]
  },
  {
   "cell_type": "markdown",
   "metadata": {},
   "source": [
    "<div>\n",
    "    <font size=3>\n",
    "In the last part, we want to investigate the effect of the learning rate hyperparameter on the gradiant descent algorithm with a new function     \n",
    "    </font>\n",
    "</div>"
   ]
  },
  {
   "cell_type": "markdown",
   "metadata": {},
   "source": [
    "## Function"
   ]
  },
  {
   "cell_type": "markdown",
   "metadata": {},
   "source": [
    "$f(x_1, x_2) = 2x_1^2 + 3x_2^2 - 4x_1x_2 - 50x + 6y$"
   ]
  },
  {
   "cell_type": "code",
   "execution_count": 12,
   "metadata": {
    "collectable": true
   },
   "outputs": [],
   "source": [
    "def f(x_1, x_2):\n",
    "    ############################################################\n",
    "    # (1 Points)                                               #\n",
    "    ############################################################\n",
    "    return 2*x_1**2 + 3*x_2**2 - 4*x_1*x_2 - 50*x_1 + 6*x_2"
   ]
  },
  {
   "cell_type": "markdown",
   "metadata": {},
   "source": [
    "<div>\n",
    "    <font size=3>\n",
    "Implement gradiant descent function for two-dimensional functions, in such a way that it gives sequence of x_1 and x_2 in the output ()\n",
    "    </font>\n",
    "</div>"
   ]
  },
  {
   "cell_type": "code",
   "execution_count": 13,
   "metadata": {
    "collectable": true
   },
   "outputs": [],
   "source": [
    "def gradiant_descent(func, initial_point: Tuple, learning_rate: float, threshold: float, max_iterations: int):\n",
    "    x_1_sequence = [initial_point[0]]\n",
    "    x_2_sequence = [initial_point[1]]\n",
    "    \n",
    "    # Threshold: if either the value of x1 or x2 is greater than this value, the algorithm ends\n",
    "    # implement your function\n",
    "    ############################################################\n",
    "    # (9 Points)                                              #\n",
    "    ############################################################\n",
    "    x = initial_point\n",
    "    for _ in range(max_iterations):\n",
    "        x = update_points(func, x[0], x[1], learning_rate)\n",
    "        if x[0] > threshold or x[1] > threshold:\n",
    "            break\n",
    "        x_1_sequence.append(x[0])\n",
    "        x_2_sequence.append(x[1])\n",
    "    \n",
    "    return x_1_sequence, x_2_sequence\n",
    "\n",
    "def update_points(func, x_1, x_2, learning_rate):\n",
    "    h = 0.00001\n",
    "    gradient_1 = (func(x_1+h, x_2) - func(x_1, x_2)) / h\n",
    "    gradient_2 = (func(x_1, x_2+h) - func(x_1, x_2)) / h\n",
    "    \n",
    "    new_x_1 = x_1 - learning_rate * gradient_1\n",
    "    new_x_2 = x_2 - learning_rate * gradient_2\n",
    "    \n",
    "    return (new_x_1, new_x_2)"
   ]
  },
  {
   "cell_type": "code",
   "execution_count": 14,
   "metadata": {},
   "outputs": [],
   "source": [
    "def draw_points_sequence(func, x_1_sequence, x_2_sequence):\n",
    "    X1, X2 = np.meshgrid(np.linspace(-100.0, 100.0, 100), np.linspace(-100.0, 100.0, 100))\n",
    "    Y = func(X1, X2)\n",
    "    cp = plt.contour(X1, X2, Y, colors='black', linestyles='dashed', linewidths=1)\n",
    "    plt.clabel(cp, inline=1, fontsize=10)\n",
    "    cp = plt.contourf(X1, X2, Y, )\n",
    "    plt.xlabel('X1')\n",
    "    plt.ylabel('X2')\n",
    "    plt.scatter(x_1_sequence, x_2_sequence, s=10, c=\"y\")\n",
    "    plt.show()"
   ]
  },
  {
   "cell_type": "markdown",
   "metadata": {},
   "source": [
    "<div>\n",
    "    <font size=3>\n",
    "    Run the gradiant descent algorithm for each of the learning rate values and use the above function to draw diagram\n",
    "    </font>\n",
    "</div>"
   ]
  },
  {
   "cell_type": "code",
   "execution_count": 15,
   "metadata": {},
   "outputs": [],
   "source": [
    "initial_point = (-100, 100)\n",
    "learning_rates = [0.01, 0.05, 0.19, 0.4]\n",
    "threshold = 100\n",
    "max_iterations = 1000"
   ]
  },
  {
   "cell_type": "code",
   "execution_count": 16,
   "metadata": {
    "collectable": true
   },
   "outputs": [
    {
     "data": {
      "image/png": "[encoded data removed]",
      "text/plain": [
       "<Figure size 432x288 with 1 Axes>"
      ]
     },
     "metadata": {
      "needs_background": "light"
     },
     "output_type": "display_data"
    }
   ],
   "source": [
    "# learning rate 0.01\n",
    "############################################################\n",
    "# (0.5 Points)                                             #\n",
    "############################################################\n",
    "x1_seq1, x2_seq1 = gradiant_descent(f, initial_point, learning_rates[0], threshold, max_iterations)\n",
    "draw_points_sequence(f, x1_seq1, x2_seq1)"
   ]
  },
  {
   "cell_type": "code",
   "execution_count": 17,
   "metadata": {
    "collectable": true
   },
   "outputs": [
    {
     "data": {
      "image/png": "[encoded data removed]",
      "text/plain": [
       "<Figure size 432x288 with 1 Axes>"
      ]
     },
     "metadata": {
      "needs_background": "light"
     },
     "output_type": "display_data"
    }
   ],
   "source": [
    "# learning rate 0.05\n",
    "############################################################\n",
    "# (0.5 Points)                                             #\n",
    "############################################################\n",
    "x1_seq2, x2_seq2 = gradiant_descent(f, initial_point, learning_rates[1], threshold, max_iterations)\n",
    "draw_points_sequence(f, x1_seq2, x2_seq2)"
   ]
  },
  {
   "cell_type": "code",
   "execution_count": 18,
   "metadata": {
    "collectable": true
   },
   "outputs": [
    {
     "data": {
      "image/png": "[encoded data removed]",
      "text/plain": [
       "<Figure size 432x288 with 1 Axes>"
      ]
     },
     "metadata": {
      "needs_background": "light"
     },
     "output_type": "display_data"
    }
   ],
   "source": [
    "# learning rate 0.19\n",
    "############################################################\n",
    "# (0.5 Points)                                             #\n",
    "############################################################\n",
    "x1_seq3, x2_seq3 = gradiant_descent(f, initial_point, learning_rates[2], threshold, max_iterations)\n",
    "draw_points_sequence(f, x1_seq3, x2_seq3)"
   ]
  },
  {
   "cell_type": "code",
   "execution_count": 19,
   "metadata": {
    "collectable": true
   },
   "outputs": [
    {
     "data": {
      "image/png": "[encoded data removed]",
      "text/plain": [
       "<Figure size 432x288 with 1 Axes>"
      ]
     },
     "metadata": {
      "needs_background": "light"
     },
     "output_type": "display_data"
    }
   ],
   "source": [
    "# learning rate 0.4\n",
    "############################################################\n",
    "# (0.5 Points)                                             #\n",
    "############################################################\n",
    "x1_seq4, x2_seq4 = gradiant_descent(f, initial_point, learning_rates[3], threshold, max_iterations)\n",
    "draw_points_sequence(f, x1_seq4, x2_seq4)"
   ]
  },
  {
   "cell_type": "markdown",
   "metadata": {},
   "source": [
    "<div>\n",
    "    <font size=3>\n",
    "    explain your result comprehensively from the charts, \n",
    "    </font>\n",
    "</div>"
   ]
  },
  {
   "cell_type": "markdown",
   "metadata": {
    "collectable": true
   },
   "source": [
    "<font color=blue>\n",
    "    (6 Points) <br/>\n",
    "As we can see in two first graph, small learning rates makes algorithm to converge to the extremum points. But choosing very small rates will increase the number of steps to converge. On the other hand, if we choose big number for learning rate, the algorithm might not even converge to desireable points. As we can see, ths fault has happend in 3rd and 4th picture.\n",
    "</font>"
   ]
  },
  {
   "cell_type": "markdown",
   "metadata": {},
   "source": [
    "# Q2. CSPs (30 Points)"
   ]
  },
  {
   "cell_type": "markdown",
   "metadata": {},
   "source": [
    "<font size=4>\n",
    "     Author: Alireza Tajmirriahi\n",
    "     <br/>\n",
    "     <font color=red>\n",
    "     Please run all the cells.\n",
    "     </font>\n",
    "</font>\n",
    "<br/>"
   ]
  },
  {
   "cell_type": "markdown",
   "metadata": {},
   "source": [
    "As students are preparing for midterm exams and the virtual exam days are gone and forgotten, each department is struggling to select at least one hall out of $N$ halls in the university to hold their exams. But here's the thing:\n",
    "  - Students from each department aren't really fond of sitting next to students from other departments and must be separated (for example CE students and CS students must not share the same hall for exams).\n",
    "  - Each department likes certain halls and won't hold their exams in other halls.\n",
    "  - Sadly, the exit doors in some of the halls are stuck and the hard working staff have provided some routes so that the students from specific halls need to walk through the other hall and exit after the examination. And because they would like to prevent cheating as much as possible, students in such halls cannot be from the same department.\n",
    "Check out the example below to fully understand the situation."
   ]
  },
  {
   "cell_type": "markdown",
   "metadata": {},
   "source": [
    "## Example\n",
    "Look at this picture carefully.<br>\n",
    "<img src=\"Images/CSP_example.png\" width=\"400\"/>\n",
    "  - There are $6$ halls and $3$ departments.\n",
    "  - The halls which the deparments like are indicated (for example, CE exams can be held only at Hall 1, 4 and 6).\n",
    "  - Students from Hall 1 should exit using the doors in Hall 2 (Note: they all exit there and won't continue to Hall 3). In this case, EE students cannot be in both Hall 1 and 2 (But of course, it's okay for them to be in Hall 1 and 3)."
   ]
  },
  {
   "cell_type": "markdown",
   "metadata": {},
   "source": [
    "## Note\n",
    "  - You _must_ implement and use AC-3 algorithm.\n",
    "  - You will _probably_ need to utilize the heuristic algorithms you have learned (e.g. MRV and LCV) or consider nearly tree-structured graphs approach in order to pass all tests in an appropriate time."
   ]
  },
  {
   "cell_type": "markdown",
   "metadata": {},
   "source": [
    "## Input\n",
    "  - The first line consists of $N$ (count of halls) and $M$ (count of departments).\n",
    "  - In the following $M$ lines, the $i$ th line ($1 \\le i \\le M$) is a list of preferred halls for the $i$ th department (separated by space).\n",
    "  - In the next line, $E$, the total number of exit constraints (edges in the previous graph) are given.\n",
    "  - in each of the following $E$ lines, a pair of hall numbers (separated by space) is given (reminder: the direction is important).\n",
    "$$1 \\le N \\le 50$$\n",
    "$$1 \\le M \\le 50$$\n",
    "\n",
    "### Sample Input\n",
    "This sample describes the previous example (CE=1, EE=2, ME=3).\n",
    "```\n",
    "6 3\n",
    "1 4 6\n",
    "1 2 3 5 6\n",
    "3 4 5\n",
    "5\n",
    "1 2\n",
    "2 3\n",
    "3 4\n",
    "3 5\n",
    "3 6\n",
    "```"
   ]
  },
  {
   "cell_type": "markdown",
   "metadata": {},
   "source": [
    "## Output\n",
    "In the only line, print:\n",
    "  - list of one appropriate assignment ordered by hall number (separated by space).\n",
    "  - `NO` if there isn't.\n",
    "\n",
    "### Sample Output\n",
    "One possible solution to the example above is {Hall1=CE, Hall2=EE , Hall3=ME, Hall4=CE, Hall5=EE, Hall6=EE}. So:\n",
    "```\n",
    "1 2 3 1 2 2\n",
    "```\n",
    "In another example, If Hall3 was not an option for ME, then the answer would be:\n",
    "```\n",
    "NO\n",
    "```\n",
    "Because then hall 2 or 3 would be empty."
   ]
  },
  {
   "cell_type": "markdown",
   "metadata": {},
   "source": [
    "## Your code\n",
    "**Note:** It's OK to change the signature for the given functions and the given structure is just a suggestion to help you with the implementation. (you can't remove or add any cells based on the **Rules** section)"
   ]
  },
  {
   "cell_type": "code",
   "execution_count": 20,
   "metadata": {
    "collectable": true
   },
   "outputs": [],
   "source": [
    "# Auxiliary functions\n",
    "def is_goal(assignment):\n",
    "    return not -1 in assignment\n",
    "    \n",
    "def MRV(values, assignment):\n",
    "    min_idx = 0\n",
    "    min_count = float('inf')\n",
    "    for i in range(len(assignment)):\n",
    "        if assignment[i] != -1:\n",
    "            continue\n",
    "        if len(values[i]) < min_count:\n",
    "            min_count = len(values[i])\n",
    "            min_idx = i\n",
    "    return (min_idx, min_count)\n",
    "\n",
    "def is_consistent(i, v, assignment, edges):\n",
    "    for neighbor in edges[i]:\n",
    "        if v == assignment[neighbor]:\n",
    "            return False\n",
    "    return True"
   ]
  },
  {
   "cell_type": "code",
   "execution_count": 21,
   "metadata": {
    "collectable": true
   },
   "outputs": [],
   "source": [
    "def ac_3(values, edges):\n",
    "    #################################################################\n",
    "    # (Point: 30% of total score obtained by tests)                 #\n",
    "    # This function returns false                                   #\n",
    "    # if an inconsistency is found and true otherwise.              #\n",
    "    # Feel free to also implement a `revise` function in this cell. #\n",
    "    #################################################################\n",
    "    queue = []\n",
    "    for i in range(len(edges)):\n",
    "        for neighbor in edges[i]:\n",
    "            queue.append((i, neighbor))\n",
    "    while len(queue) != 0:\n",
    "        e = queue.pop()\n",
    "        has_changed, new_values = revise(e, values)\n",
    "        if has_changed:\n",
    "            values = new_values\n",
    "            if len(values[e[0]]) == 0:\n",
    "                return False\n",
    "            for neighbor in edges[e[0]]:\n",
    "                if neighbor != e[1]:\n",
    "                    queue.append((neighbor, e[0]))\n",
    "    return values\n",
    "\n",
    "def revise(e, values):\n",
    "    changed = False\n",
    "    to_remove = []\n",
    "    for x in values[e[0]]:\n",
    "        good = False\n",
    "        for y in values[e[1]]:\n",
    "            if x != y:\n",
    "                good = True\n",
    "                break\n",
    "        if not good:\n",
    "            changed = True\n",
    "            to_remove.append(x)\n",
    "\n",
    "    if changed:\n",
    "        values[e[0]] = [x for x in values[e[0]] if x not in to_remove]\n",
    "\n",
    "    return (changed, values)"
   ]
  },
  {
   "cell_type": "code",
   "execution_count": 22,
   "metadata": {
    "collectable": true
   },
   "outputs": [],
   "source": [
    "def backtrack(assignment, values, edges):\n",
    "    #################################################################\n",
    "    # (Point: 60% of total score obtained by tests)                 #\n",
    "    # This function returns a solution if there is a complete       #\n",
    "    # assignment or failure if there is not                         #\n",
    "    #################################################################\n",
    "    if is_goal(assignment):\n",
    "        return assignment\n",
    "    \n",
    "    values = ac_3(values, edges)\n",
    "    if values == False:\n",
    "        return 'NO'\n",
    "    \n",
    "    i, count = MRV(values, assignment)\n",
    "    if count == 0:\n",
    "        return 'NO'\n",
    "    \n",
    "    for value in values[i]:\n",
    "        if is_consistent(i, value, assignment, edges):\n",
    "            assignment[i] = value\n",
    "            result = backtrack(assignment, values, edges)\n",
    "            if result != 'NO':\n",
    "                return result\n",
    "    assignment[i] = -1\n",
    "    return 'NO'\n",
    "\n",
    "def backtracking_search(n, values, edges):\n",
    "    #################################################################\n",
    "    #                          (Optional)                           #\n",
    "    #   Just in case you need an auxiliary function for backtrack   #\n",
    "    #################################################################\n",
    "    consistent_values = ac_3(values, edges)\n",
    "    if consistent_values == False:\n",
    "        return 'NO'\n",
    "\n",
    "    assignment = [-1 for _ in range(n)]\n",
    "    result = backtrack(assignment, consistent_values, edges)\n",
    "    if result != 'NO':\n",
    "        result = [x+1 for x in result]\n",
    "    return result"
   ]
  },
  {
   "cell_type": "code",
   "execution_count": 23,
   "metadata": {},
   "outputs": [
    {
     "name": "stdout",
     "output_type": "stream",
     "text": [
      "Score = 100.0%\n"
     ]
    }
   ],
   "source": [
    "import Helper_codes.question2 as q2\n",
    "import time\n",
    "\n",
    "TIME_LIMIT = 3\n",
    "\n",
    "tests = q2.get_all_tests(prefix='q2_')\n",
    "tests_passed = 0\n",
    "for test in tests:\n",
    "    n, m, m_next_lines, e, next_e_lines = q2.scan_test_input(test)\n",
    "    #################################################################\n",
    "    preferred_values = [[] for _ in range(n)]\n",
    "    for i in range(m):\n",
    "        for hall in m_next_lines[i]:\n",
    "            preferred_values[hall-1].append(i)\n",
    "    edges = [[] for _ in range(n)]\n",
    "    for e in next_e_lines:\n",
    "        edges[e[0]-1].append(e[1]-1)\n",
    "        edges[e[1]-1].append(e[0]-1)\n",
    "    #################################################################\n",
    "    start_time = time.time()\n",
    "    result = backtracking_search(n, preferred_values, edges)\n",
    "    total_time = time.time() - start_time\n",
    "    if q2.is_result_valid(test, result) and total_time < TIME_LIMIT:\n",
    "        tests_passed += 1\n",
    "    else:\n",
    "        print(f'test {test} failed. time elapsed= {total_time}')\n",
    "print(f'Score = {tests_passed / len(tests) * 100}%')"
   ]
  },
  {
   "cell_type": "markdown",
   "metadata": {},
   "source": [
    "# Q3 (30+5 Points)"
   ]
  },
  {
   "cell_type": "markdown",
   "metadata": {},
   "source": [
    "<font size=4>\n",
    "Author: Matina mehdizadeh\n",
    "\t\t\t<br/>\n",
    "                <font color=red>\n",
    "Please run all the cells.\n",
    "     </font>\n",
    "</font>\n",
    "                <br/>\n",
    "    </div>"
   ]
  },
  {
   "cell_type": "code",
   "execution_count": null,
   "metadata": {
    "collectable": true
   },
   "outputs": [],
   "source": [
    "# place for your custom functions for Q3 here"
   ]
  },
  {
   "cell_type": "markdown",
   "metadata": {},
   "source": [
    "Consider the given 8*8 board game. There are two players in this game and they try to block each other and limit their valid moves by making walls. Their moves are limited to the 8 cells (or less when they are around the edges) beside them and the walls will start to appear only when a player steps into a random generated yellow cell and the wall will continue to be built until the player reaches the next yellow cell. The players start the game at (0,0) and (7,7) and they keep playing untill one of them loses. There are multiple ways for a player to win the match:\n",
    "- If a player steps into a wall or out of the board, the player loses the match and \"invalid move\" massege will appear on terminal.\n",
    "- If the players reach the maximum moves the game finishes and the winner would be chosen based on the maximum valid move they have left plus the number of walls they have made and \"No more moves\" massege will appear on terminal.\n",
    "- If the getMove() function does not return any value after 2 seconds, the player loses the match and \"Time limit exceeded\" massege will appear on terminal.\n",
    "<img src=\"Images/Q3.png\" style=\"float: center; margin-left: 250px; margin-top: 50px; width:500px;height:400px;\"/>"
   ]
  },
  {
   "cell_type": "markdown",
   "metadata": {},
   "source": [
    "In this question, the codes for starting the game were provided for you in Helper-codes folder. You are expected to implement the MinimaxPlayer class (which inherit the Player class) with alpha-beta pruning. (25 points)"
   ]
  },
  {
   "cell_type": "markdown",
   "metadata": {},
   "source": [
    "## Libraries"
   ]
  },
  {
   "cell_type": "code",
   "execution_count": 25,
   "metadata": {
    "tags": []
   },
   "outputs": [
    {
     "name": "stdout",
     "output_type": "stream",
     "text": [
      "Requirement already satisfied: tk in c:\\python39\\lib\\site-packages (0.1.0)\n"
     ]
    },
    {
     "name": "stderr",
     "output_type": "stream",
     "text": [
      "WARNING: You are using pip version 21.0.1; however, version 21.3.1 is available.\n",
      "You should consider upgrading via the 'c:\\python39\\python.exe -m pip install --upgrade pip' command.\n"
     ]
    },
    {
     "name": "stdout",
     "output_type": "stream",
     "text": [
      "Requirement already satisfied: matplotlib in c:\\python39\\lib\\site-packages (3.4.2)\n",
      "Requirement already satisfied: pyparsing>=2.2.1 in c:\\python39\\lib\\site-packages (from matplotlib) (2.4.7)\n",
      "Requirement already satisfied: pillow>=6.2.0 in c:\\tools\\manim\\lib\\site-packages (from matplotlib) (8.2.0)\n",
      "Requirement already satisfied: kiwisolver>=1.0.1 in c:\\python39\\lib\\site-packages (from matplotlib) (1.3.1)\n",
      "Requirement already satisfied: numpy>=1.16 in c:\\tools\\manim\\lib\\site-packages (from matplotlib) (1.20.2)\n",
      "Requirement already satisfied: cycler>=0.10 in c:\\python39\\lib\\site-packages (from matplotlib) (0.10.0)\n",
      "Requirement already satisfied: python-dateutil>=2.7 in c:\\python39\\lib\\site-packages (from matplotlib) (2.8.1)\n",
      "Requirement already satisfied: six in c:\\tools\\manim\\lib\\site-packages (from cycler>=0.10->matplotlib) (1.15.0)\n"
     ]
    },
    {
     "name": "stderr",
     "output_type": "stream",
     "text": [
      "WARNING: You are using pip version 21.0.1; however, version 21.3.1 is available.\n",
      "You should consider upgrading via the 'c:\\python39\\python.exe -m pip install --upgrade pip' command.\n"
     ]
    }
   ],
   "source": [
    "!pip install tk\n",
    "!pip install matplotlib\n",
    "import numpy as np\n",
    "import random\n",
    "from Helper_codes.graphics import *\n",
    "from Helper_codes.question3 import Cell\n",
    "from Helper_codes.question3 import IntPair\n",
    "from Helper_codes.question3 import Player\n",
    "from Helper_codes.question3 import NaivePlayer\n",
    "from Helper_codes.question3 import Board\n",
    "from Helper_codes.question3 import Game\n",
    "import time\n",
    "import matplotlib as plt\n",
    "import seaborn as sns"
   ]
  },
  {
   "cell_type": "markdown",
   "metadata": {},
   "source": [
    "**The following implementations are suggestional and you may change them if you desire.\n",
    "The move_ functions' purpose is to find out if a player, has a valid move on that direction.\n",
    "the purpose of checkRow and CheckCole are to check if the player's x and y is still in the board.**\n"
   ]
  },
  {
   "cell_type": "code",
   "execution_count": 26,
   "metadata": {
    "collectable": true
   },
   "outputs": [],
   "source": [
    "class MinimaxPlayer(Player):\n",
    "    \n",
    "    __moves = [(0,1), (0,-1), (1,0), (-1,0), (1,1), (1,-1), (-1,1), (-1,-1)]\n",
    "    __start = None\n",
    "    __time_exceeded = False\n",
    "    \n",
    "    def __init__(self, col, x, y, depth=4):\n",
    "        super().__init__(col, x, y)\n",
    "        self.depth = depth\n",
    "        \n",
    "    \n",
    "    def isIn(self, v, length):\n",
    "        return (v > 0) and (v < length)\n",
    "    \n",
    "    def move_possible(self, move, board, player_col):\n",
    "        x = board.getPlayerX(player_col)\n",
    "        y = board.getPlayerY(player_col)\n",
    "        next_x = x + move[0]\n",
    "        next_y = y + move[1]\n",
    "        length = board.getSize()\n",
    "        \n",
    "        if (not self.isIn(next_x, length)) or (not self.isIn(next_y, length)):\n",
    "            return False\n",
    "        if board.getCell(next_x, next_y).getColor() != 0:\n",
    "            return False\n",
    "        return True\n",
    "\n",
    "    def canMove(self, board, player_col):\n",
    "        for move in self.__moves:\n",
    "            if self.move_possible(move, board, player_col):\n",
    "                return True\n",
    "        return False\n",
    "    \n",
    "    def isTerminal(self, board, player_col):\n",
    "        if board.getNumberOfMoves() == board.maxNumberOfMoves:\n",
    "            return True\n",
    "        if not self.canMove(board, player_col):\n",
    "            return True\n",
    "        return False\n",
    "\n",
    "    def minValue(self, board, alpha, beta, depth, player_col):\n",
    "        ################################################################\n",
    "        # implement the minValue function (5 points)                   #\n",
    "        # this function should return an Integer which is the minValue #                                         \n",
    "        ################################################################\n",
    "        if time.time() - self.__start > 2:\n",
    "            self.time_exceeded = True\n",
    "            return 0\n",
    "        \n",
    "        if self.isTerminal(board, player_col) or (depth > self.depth):\n",
    "            return board.getScore(self.getCol()) - board.getScore(3-self.getCol())\n",
    "        \n",
    "        value = float('inf')\n",
    "        np.random.shuffle(self.__moves)\n",
    "        for move in self.__moves:\n",
    "            response, new_board = self.result(move, board, player_col)\n",
    "            if response != 0:\n",
    "                continue\n",
    "            value = min(value, self.maxValue(new_board, alpha, beta, depth+1, 3-player_col))\n",
    "            if value <= alpha:\n",
    "                return value\n",
    "            beta = min(beta, value)\n",
    "        return value\n",
    "    \n",
    "    def maxValue(self, board, alpha, beta, depth, player_col):\n",
    "        ################################################################\n",
    "        # implement the manValue function (5 points)                   #\n",
    "        # this function should return an Integer which is the manValue #                                         \n",
    "        ################################################################\n",
    "        if time.time() - self.__start > 2:\n",
    "            self.time_exceeded = True\n",
    "            return 0\n",
    "        \n",
    "        if self.isTerminal(board, player_col) or (depth > self.depth):\n",
    "            return board.getScore(self.getCol()) - board.getScore(3-self.getCol())\n",
    "        \n",
    "        value = float('-inf')\n",
    "        np.random.shuffle(self.__moves)\n",
    "        for move in self.__moves:\n",
    "            response, new_board = self.result(move, board, player_col)\n",
    "            if response != 0:\n",
    "                continue\n",
    "            value = max(value, self.minValue(new_board, alpha, beta, depth+1, 3-player_col))\n",
    "            if value >= beta:\n",
    "                return value\n",
    "            alpha = max(alpha, value)\n",
    "        return value\n",
    "    \n",
    "    def result(self, move, board, player_col):\n",
    "        new_board = Board(board)\n",
    "        current_x = board.getPlayerX(player_col)\n",
    "        current_y = board.getPlayerY(player_col)\n",
    "        next_place = IntPair(current_x + move[0], current_y + move[1])\n",
    "        \n",
    "        response = new_board.move(next_place, player_col)\n",
    "        return (response, new_board)\n",
    "        \n",
    "    def getMove(self, board):\n",
    "        ################################################################\n",
    "        # implement a function that returns an Inpair for player's-    #\n",
    "        # next x and y. Implementation of x and y should be in a way-  #\n",
    "        # that let the players choose any of the 8 cells around them   #\n",
    "        # (unlike the NaivePlayer which can go only in 4 direction)    #                                          \n",
    "        # pay attention that this IntPair should be calculated using   #\n",
    "        # alpha beta pruning Otherwise, you will not receive the full  #\n",
    "        # score (15 points)                                            #\n",
    "        ################################################################\n",
    "        alpha = float('-inf')\n",
    "        beta = float('inf')\n",
    "        next = IntPair(-20, -20)\n",
    "        self.__start = time.time()\n",
    "        self.__time_exceeded = False\n",
    "\n",
    "        if (board.getNumberOfMoves() == board.maxNumberOfMoves):\n",
    "            return IntPair(-20, -20)\n",
    "        \n",
    "        if not (self.canMove(board, self.getCol())):\n",
    "            return IntPair(-10, -10)\n",
    "        \n",
    "        best_val = float('-inf')\n",
    "        current_x = board.getPlayerX(self.getCol())\n",
    "        current_y = board.getPlayerY(self.getCol())\n",
    "        np.random.shuffle(self.__moves)\n",
    "        for move in self.__moves:\n",
    "            response, new_board = self.result(move, board, self.getCol())\n",
    "            if response != 0:\n",
    "                continue\n",
    "            new_val = self.minValue(new_board, alpha, beta, 1, 3-self.getCol())\n",
    "            if new_val > best_val:\n",
    "                next = IntPair(current_x + move[0], current_y + move[1])\n",
    "        \n",
    "        if self.__time_exceeded:\n",
    "            return IntPair(-10, -10)\n",
    "        return next"
   ]
  },
  {
   "cell_type": "markdown",
   "metadata": {},
   "source": [
    "If you run the game once (numberOfMatches = 1) the game window will open and you would be able to observe the players behaviour and the reason why the winner has won, will appear on terminal.\n",
    "If you run the game for more than one match (numberOfMatches > 1) the graphic window and the comments on terminal would not show up. This is for the time you finish implementing the MinimaxPlayer class and you want to verify the functionality of your code; also, for next part of the question, in which you should plot the scores for the first player."
   ]
  },
  {
   "cell_type": "code",
   "execution_count": null,
   "metadata": {
    "collectable": true
   },
   "outputs": [],
   "source": [
    "################################################################\n",
    "# p1 must be replace with minimaxPlayer                        #\n",
    "################################################################\n",
    "p1 = MinimaxPlayer(1, 0, 0, 4)\n",
    "p2 = NaivePlayer(2, 7, 7)\n",
    "g = Game(p1, p2)\n",
    "numberOfMatches = 1\n",
    "score1, score2 = g.start(numberOfMatches)\n",
    "print(score1/numberOfMatches)"
   ]
  },
  {
   "cell_type": "markdown",
   "metadata": {},
   "source": [
    "In this section, you need to run the game code multiple times and each time with the same numberOfMatches (this should be a large number so your answer be more reliable) once for Naive player and once for Minimax. compare these two plots in terms of shape and the main elements of the distribution. (5 points)"
   ]
  },
  {
   "cell_type": "code",
   "execution_count": null,
   "metadata": {
    "collectable": true
   },
   "outputs": [],
   "source": [
    "################################################################\n",
    "# when player1 is NaivePlayer (2.5 point)                      #\n",
    "################################################################\n",
    "\n",
    "# this actullay was taking tooooooooo long, so I gave up on it, :')\n",
    "\n",
    "scores_1 = []\n",
    "for _ in range(10):\n",
    "    p1 = MinimaxPlayer(1, 0, 0, 4)\n",
    "    p2 = NaivePlayer(2, 7, 7)\n",
    "    g = Game(p1, p2)\n",
    "    numberOfMatches = 3\n",
    "    score1, score2 = g.start(numberOfMatches)\n",
    "    scores_1.append(score1)\n",
    "\n",
    "sns.displot(scores_1, kind='kde')"
   ]
  },
  {
   "cell_type": "code",
   "execution_count": null,
   "metadata": {
    "collectable": true
   },
   "outputs": [],
   "source": [
    "################################################################\n",
    "# when player1 is MinimaxPlayer (2.5 point)                    #\n",
    "################################################################\n",
    "scores_2 = []\n",
    "for _ in range(10):\n",
    "    p1 = MinimaxPlayer(1, 0, 0, 4)\n",
    "    p2 = MinimaxPlayer(2, 7, 7, 4)\n",
    "    g = Game(p1, p2)\n",
    "    numberOfMatches = 3\n",
    "    score1, score2 = g.start(numberOfMatches)\n",
    "    scores_2.append(score1)\n",
    "\n",
    "sns.displot(scores_2, kind='kde')"
   ]
  },
  {
   "cell_type": "markdown",
   "metadata": {},
   "source": [
    "In this section you should change the game settings for different depths and plot the number of wins in fix number of matches for these depths. Also, you should let two minimax players with diffrent depths play againts eachother and report your observation.(5 points)"
   ]
  },
  {
   "cell_type": "code",
   "execution_count": null,
   "metadata": {
    "collectable": true
   },
   "outputs": [],
   "source": [
    "################################################################\n",
    "# plot the number of wins for diffrent depths (2.5 point)      #\n",
    "################################################################\n",
    "scores_3 = []\n",
    "depths = [2, 4, 6, 8, 10]\n",
    "for depth in depths:\n",
    "    p1 = MinimaxPlayer(1, 0, 0, depth)\n",
    "    p2 = NaivePlayer(2, 7, 7)\n",
    "    g = Game(p1, p2)\n",
    "    numberOfMatches = 4\n",
    "    score1, score2 = g.start(numberOfMatches)\n",
    "    scores_3.append(score1)\n",
    "\n",
    "plt.plot(x=depth, y=scores_3)"
   ]
  },
  {
   "cell_type": "code",
   "execution_count": null,
   "metadata": {
    "collectable": true
   },
   "outputs": [],
   "source": [
    "################################################################\n",
    "# start the match for two minimax players (2.5 point)          #\n",
    "################################################################\n",
    "scores_4 = []\n",
    "depths = [2, 4, 6, 8, 10]\n",
    "for depth in depths:\n",
    "    p1 = MinimaxPlayer(1, 0, 0, depth)\n",
    "    p2 = MinimaxPlayer(2, 7, 7, depth)\n",
    "    g = Game(p1, p2)\n",
    "    numberOfMatches = 4\n",
    "    score1, score2 = g.start(numberOfMatches)\n",
    "    scores_4.append(score1)\n",
    "\n",
    "plt.plot(x=depth, y=scores_4)"
   ]
  }
 ],
 "metadata": {
  "interpreter": {
   "hash": "f336af7d54ba0f0c1daaf2256eb85f31e983e88153daf7a27ef3ea6c724faba4"
  },
  "kernelspec": {
   "display_name": "Python 3",
   "language": "python",
   "name": "python3"
  },
  "language_info": {
   "codemirror_mode": {
    "name": "ipython",
    "version": 3
   },
   "file_extension": ".py",
   "mimetype": "text/x-python",
   "name": "python",
   "nbconvert_exporter": "python",
   "pygments_lexer": "ipython3",
   "version": "3.9.4"
  }
 },
 "nbformat": 4,
 "nbformat_minor": 4
}
