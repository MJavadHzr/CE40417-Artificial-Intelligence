{
 "cells": [
  {
   "cell_type": "markdown",
   "metadata": {
    "id": "d98O4vjubJ3j"
   },
   "source": [
    "<div align=center>\n",
    "\t\t\n",
    "<p></p>\n",
    "<p></p>\n",
    "<font size=5>\n",
    "In the Name of God\n",
    "<font/>\n",
    "<p></p>\n",
    " <br/>\n",
    "    <br/>\n",
    "    <br/>\n",
    "<font color=#FF7500>\n",
    "Sharif University of Technology - Departmenet of Computer Engineering\n",
    "</font>\n",
    "<p></p>\n",
    "<font color=blue>\n",
    "Artifical Intelligence - Dr. Mohammad Hossein Rohban\n",
    "</font>\n",
    "<br/>\n",
    "<br/>\n",
    "Fall 2021\n",
    "\n",
    "</div>\n",
    "\n",
    "<hr/>\n",
    "\t\t<div align=center>\n",
    "\t\t    <font color=red size=6>\n",
    "\t\t\t    <br />\n",
    "Practical Assignment 4 Pytorch Classification\n",
    "            \t<br/>\n",
    "\t\t\t</font>\n",
    "    <br/>\n",
    "    <br/>\n",
    "<font size=4>\n",
    "                <br/><b>\n",
    "              Cheating is Strongly Prohibited\n",
    "                </b><br/><br/>\n",
    "                <font color=red>\n",
    "Please run all the cells.\n",
    "     </font>\n",
    "</font>\n",
    "                <br/>\n",
    "    </div>"
   ]
  },
  {
   "cell_type": "markdown",
   "metadata": {
    "id": "Vc56RQq_bJ3p"
   },
   "source": [
    "# Personal Data"
   ]
  },
  {
   "cell_type": "code",
   "execution_count": 2,
   "metadata": {
    "collectable": true,
    "id": "tODT3Ai9bJ3q",
    "tags": []
   },
   "outputs": [],
   "source": [
    "# Set your student number\n",
    "student_number = 98101074\n",
    "Name = 'Mohammad Javad'\n",
    "Last_Name = 'Hezareh'"
   ]
  },
  {
   "cell_type": "markdown",
   "metadata": {
    "id": "j36cYwxIbJ3r"
   },
   "source": [
    "# Rules\n",
    "- You **are** allowed to add or remove cells. \n",
    "- By running the cell below, you can see if your jupyter file is accepted or not. This cell will also **generate a python file which you'll have to upload to Quera** (as well as your jupyter file). The python file will later be validated and if the code in both files doesn't match, **your Practical Assignment won't be graded**."
   ]
  },
  {
   "cell_type": "code",
   "execution_count": 3,
   "metadata": {
    "id": "MxF-SCt7bJ3s",
    "outputId": "1ebdf35f-24f3-49f1-e06c-d4f66a8899ff"
   },
   "outputs": [
    {
     "name": "stdout",
     "output_type": "stream",
     "text": [
      "your file will be graded\n"
     ]
    }
   ],
   "source": [
    "# remember to save your jupyter file before running this script\n",
    "from Helper_codes.validator import *\n",
    "\n",
    "python_code = extract_python(\"./Q2.ipynb\")\n",
    "with open(f'python_code_Q2_{student_number}.py', 'w') as file:\n",
    "    file.write(python_code)"
   ]
  },
  {
   "cell_type": "markdown",
   "metadata": {
    "id": "Fa1McbDhbJ3s"
   },
   "source": [
    "# PyTorch & MNIST Classification (50 points+5 Extra)"
   ]
  },
  {
   "cell_type": "markdown",
   "metadata": {
    "id": "sSeuI5X2bJ3t"
   },
   "source": [
    "<font size=4>\n",
    "Author: Arman Zarei\n",
    "\t\t\t<br/>\n",
    "                <font color=red>\n",
    "Please run all the cells.\n",
    "     </font>\n",
    "</font>\n",
    "                <br/>\n",
    "    </div>"
   ]
  },
  {
   "cell_type": "markdown",
   "metadata": {
    "id": "hpgcA5aVbhvr"
   },
   "source": [
    "In this assignment, you are going to learn the fundamentals of PyTorch and implement a classifier network for MNIST dataset. You can read about more details of PyTorch components from [this link](https://pytorch.org/tutorials)."
   ]
  },
  {
   "cell_type": "markdown",
   "metadata": {
    "id": "eWerEtmwcjDW"
   },
   "source": [
    "### Setup"
   ]
  },
  {
   "cell_type": "code",
   "execution_count": null,
   "metadata": {
    "id": "WB1qWR7ycyhk"
   },
   "outputs": [],
   "source": [
    "import torch\n",
    "from torchvision import datasets\n",
    "import matplotlib.pyplot as plt\n",
    "import torchvision.transforms as transforms\n",
    "import os\n",
    "from torch.utils.data import Dataset, DataLoader, random_split\n",
    "import torch.nn as nn\n",
    "import torch.nn.functional as F\n",
    "from ae_helper import init_mnist_subset_directories\n",
    "import tqdm"
   ]
  },
  {
   "cell_type": "code",
   "execution_count": null,
   "metadata": {
    "colab": {
     "base_uri": "https://localhost:8080/"
    },
    "id": "Xl50MioBdFpk",
    "outputId": "c95dafed-52cd-44bb-e754-9fba72d5771b"
   },
   "outputs": [
    {
     "data": {
      "text/plain": [
       "device(type='cuda')"
      ]
     },
     "execution_count": 3,
     "metadata": {},
     "output_type": "execute_result"
    }
   ],
   "source": [
    "device = torch.device('cuda' if torch.cuda.is_available() else 'cpu')\n",
    "device"
   ]
  },
  {
   "cell_type": "markdown",
   "metadata": {
    "id": "wx59hwkqj0RD"
   },
   "source": [
    "#### Loading dataset"
   ]
  },
  {
   "cell_type": "code",
   "execution_count": null,
   "metadata": {
    "colab": {
     "base_uri": "https://localhost:8080/",
     "height": 422,
     "referenced_widgets": [
      "b35e45b72726457caab05f37c4cb9dd4",
      "f18742d129bc472e8fea89d7c5c16839",
      "41674a0dc4a24ed1ad17284f651ec6b1",
      "00c5fa213042435d948db1c3eadaa4fb",
      "2ba9f2ede3894b2cbf64ea9a81733726",
      "fc03b17fb8a841c6a401530d0a98961c",
      "8e7d2e3fa4f547ab951861caa1a3f85f",
      "6ad3175152114e448f1026f177623163",
      "a68f360a88d542569ae104f9f3aa8a9b",
      "2d0c084de23e456182d997d464989a2c",
      "dd99c79a4556462caf6ae6fa5039c784",
      "abb363e1aa75463791a08974b59bf7bd",
      "e7ad1899d7a440348e1f1c39ea97cdb2",
      "877ae66384fb49669b6b3b04838121ff",
      "ff8254e744fb4f71a1f44139c45f0f26",
      "5905bdefc4424330918ec7c7cd806a3a",
      "c4de484aa51f43a59385cdef0371e637",
      "8a541b007a5b464e998c777c3aaee585",
      "9d1fb57f64fc4b5ca6b45e576c005593",
      "40c866c1d4b445a68427c07ffe2613b5",
      "e695c37012164055bd885aa5737eead9",
      "348c3fb7a25d48eab8dc22baf79cca69",
      "ecb3089207e046bcb8f20d68a91de572",
      "3b1dfe7308574fd5be6e45de85b6ebc5",
      "c2f98f637a2a4c66a4818a7b34bae950",
      "3881a92072794a869b9a8ef5259a6cb7",
      "0a7f2bd42f864dfea3181039bd16d890",
      "d4a7f9c501274dd5b3f97451ef6a1b41",
      "54f98f446a6b4d31844ba09074629ad8",
      "2f35520b13b9431ea90a1d0dd9425d95",
      "04c6e865b313435280894b1635ea97cc",
      "09cdec28c2ce4dcdb92c0c1f9a2e7de2",
      "79238a59ddbf4988a19f19612876db48",
      "a80dd3045a634360af27b58714bb0aef",
      "8289c156a61e482896a78732f4122752",
      "d8d5b2e4be134cae98f9a26e3b05fa08",
      "761649b15730451c933cfc644f41d6b2",
      "f2aaea289ef64659954e7e9c481aa45b",
      "11b0cf61dea643b5b4c59a3b191cff71",
      "43ab11ca20b9408a8121a7d51cf81932",
      "12116704a7de4e0b91ec4839a6e1715f",
      "9a978b4f75ed48d7b0097146103df74e",
      "40ed870f647147b393afdc74b3e4807e",
      "d3ad44cedd174213b87a8c59fbd8d597"
     ]
    },
    "id": "YDdS3sikj1xB",
    "outputId": "9789375f-1906-4949-9192-c1d33f0821ba"
   },
   "outputs": [
    {
     "name": "stdout",
     "output_type": "stream",
     "text": [
      "Downloading http://yann.lecun.com/exdb/mnist/train-images-idx3-ubyte.gz\n",
      "Downloading http://yann.lecun.com/exdb/mnist/train-images-idx3-ubyte.gz to data/MNIST/raw/train-images-idx3-ubyte.gz\n"
     ]
    },
    {
     "data": {
      "application/vnd.jupyter.widget-view+json": {
       "model_id": "b35e45b72726457caab05f37c4cb9dd4",
       "version_major": 2,
       "version_minor": 0
      },
      "text/plain": [
       "  0%|          | 0/9912422 [00:00<?, ?it/s]"
      ]
     },
     "metadata": {},
     "output_type": "display_data"
    },
    {
     "name": "stdout",
     "output_type": "stream",
     "text": [
      "Extracting data/MNIST/raw/train-images-idx3-ubyte.gz to data/MNIST/raw\n",
      "\n",
      "Downloading http://yann.lecun.com/exdb/mnist/train-labels-idx1-ubyte.gz\n",
      "Downloading http://yann.lecun.com/exdb/mnist/train-labels-idx1-ubyte.gz to data/MNIST/raw/train-labels-idx1-ubyte.gz\n"
     ]
    },
    {
     "data": {
      "application/vnd.jupyter.widget-view+json": {
       "model_id": "abb363e1aa75463791a08974b59bf7bd",
       "version_major": 2,
       "version_minor": 0
      },
      "text/plain": [
       "  0%|          | 0/28881 [00:00<?, ?it/s]"
      ]
     },
     "metadata": {},
     "output_type": "display_data"
    },
    {
     "name": "stdout",
     "output_type": "stream",
     "text": [
      "Extracting data/MNIST/raw/train-labels-idx1-ubyte.gz to data/MNIST/raw\n",
      "\n",
      "Downloading http://yann.lecun.com/exdb/mnist/t10k-images-idx3-ubyte.gz\n",
      "Downloading http://yann.lecun.com/exdb/mnist/t10k-images-idx3-ubyte.gz to data/MNIST/raw/t10k-images-idx3-ubyte.gz\n"
     ]
    },
    {
     "data": {
      "application/vnd.jupyter.widget-view+json": {
       "model_id": "ecb3089207e046bcb8f20d68a91de572",
       "version_major": 2,
       "version_minor": 0
      },
      "text/plain": [
       "  0%|          | 0/1648877 [00:00<?, ?it/s]"
      ]
     },
     "metadata": {},
     "output_type": "display_data"
    },
    {
     "name": "stdout",
     "output_type": "stream",
     "text": [
      "Extracting data/MNIST/raw/t10k-images-idx3-ubyte.gz to data/MNIST/raw\n",
      "\n",
      "Downloading http://yann.lecun.com/exdb/mnist/t10k-labels-idx1-ubyte.gz\n",
      "Downloading http://yann.lecun.com/exdb/mnist/t10k-labels-idx1-ubyte.gz to data/MNIST/raw/t10k-labels-idx1-ubyte.gz\n"
     ]
    },
    {
     "data": {
      "application/vnd.jupyter.widget-view+json": {
       "model_id": "a80dd3045a634360af27b58714bb0aef",
       "version_major": 2,
       "version_minor": 0
      },
      "text/plain": [
       "  0%|          | 0/4542 [00:00<?, ?it/s]"
      ]
     },
     "metadata": {},
     "output_type": "display_data"
    },
    {
     "name": "stdout",
     "output_type": "stream",
     "text": [
      "Extracting data/MNIST/raw/t10k-labels-idx1-ubyte.gz to data/MNIST/raw\n",
      "\n"
     ]
    }
   ],
   "source": [
    "mnist_dataset = datasets.MNIST(root='data', train=True, download=True, transform=transforms.ToTensor())"
   ]
  },
  {
   "cell_type": "markdown",
   "metadata": {
    "id": "USPO44OldQSB"
   },
   "source": [
    "## Autograd"
   ]
  },
  {
   "cell_type": "markdown",
   "metadata": {
    "id": "UZ3MTvqldpmz"
   },
   "source": [
    "Autograd is PyTorch's automatic differentiation engine that powers neural network training. In essence it helps us to calculate derivatives and updating parameters. To read more about Autograd and Computational Graph visit [this link](https://pytorch.org/tutorials/beginner/blitz/autograd_tutorial.html)\n",
    "\n",
    "Let us define two parameters: $p_1$ and $p_2$. "
   ]
  },
  {
   "cell_type": "code",
   "execution_count": null,
   "metadata": {
    "id": "fyMHSBA7eg1P"
   },
   "outputs": [],
   "source": [
    "p1 = torch.tensor([3.], requires_grad=True)\n",
    "p2 = torch.tensor([7.], requires_grad=True)"
   ]
  },
  {
   "cell_type": "markdown",
   "metadata": {
    "id": "3clMbGmyesLk"
   },
   "source": [
    "Now define a variable $L$ as below:\n",
    "\n",
    "$L = 3 \\times p_1^3 - 7 \\times p_2^2 + sin(p1) \\times p_2^2$"
   ]
  },
  {
   "cell_type": "code",
   "execution_count": null,
   "metadata": {
    "collectable": true,
    "id": "Q6Rf3tc5bJ3u"
   },
   "outputs": [],
   "source": [
    "# Place your code here (2.5 Points)\n",
    "## Hint: You can use torch.sin for calculation of sin(p1)\n",
    "L = 3 * (p1**3) - 7 * (p2**2) + torch.sin(p1) * (p2**2)"
   ]
  },
  {
   "cell_type": "markdown",
   "metadata": {
    "id": "yVEaM66zfI_r"
   },
   "source": [
    "Now you have to calculate the gradient of $p_1$ and $p_2$ with respect to $L$. First do it by hand and write the mathematical expression in the below cell both for $p_1$ and $p_2$. Then evaluate them at $3$ and $7$ (acording to the initialization)"
   ]
  },
  {
   "cell_type": "markdown",
   "metadata": {
    "id": "6AK61RzngBya"
   },
   "source": [
    "Place your expressions here **(2.5 Points)**\n",
    "\n",
    "\n",
    "$\\frac{dL}{dp_1} = 9p_1^2 + \\cos(p_1) \\times p_2^2$ \n",
    "\n",
    "$\\frac{dL}{dp_2} = -14 p_2 + 2p_2\\sin(p_1)$\n",
    "\n",
    "$\\frac{dL}{dp_1}(3, 7) =32.5$\n",
    "\n",
    "$\\frac{dL}{dp_2}(3, 7) =-97.3$"
   ]
  },
  {
   "cell_type": "code",
   "execution_count": null,
   "metadata": {
    "colab": {
     "base_uri": "https://localhost:8080/"
    },
    "id": "H8J9pEWYhQ7-",
    "outputId": "2cfabbc3-09d9-475b-f74b-a5988bff4407"
   },
   "outputs": [
    {
     "data": {
      "text/plain": [
       "(tensor(32.5012), tensor(-96.0236))"
      ]
     },
     "execution_count": 9,
     "metadata": {},
     "output_type": "execute_result"
    }
   ],
   "source": [
    "# Place your code here (optional)\n",
    "## For calculation of dL/dp in the given point\n",
    "h = 0.001\n",
    "def grad(func, x, y):\n",
    "    grad_x = (func(x+h, y) - func(x, y))/h\n",
    "    grad_y = (func(x, y+h) - func(x, y))/h\n",
    "    return grad_x, grad_y\n",
    "\n",
    "grad(lambda x, y: 3*x**3 - 7*y**2 + (y**2)*torch.sin(torch.tensor(x)), 3, 7)"
   ]
  },
  {
   "cell_type": "code",
   "execution_count": null,
   "metadata": {
    "colab": {
     "base_uri": "https://localhost:8080/"
    },
    "id": "Ii33ubKnNP4z",
    "outputId": "6158451e-d908-4cb9-dafd-fbdf188499b7"
   },
   "outputs": [
    {
     "data": {
      "text/plain": [
       "tensor([0.8415])"
      ]
     },
     "execution_count": 13,
     "metadata": {},
     "output_type": "execute_result"
    }
   ],
   "source": [
    "torch.sin(torch.tensor([1]))"
   ]
  },
  {
   "cell_type": "markdown",
   "metadata": {
    "id": "vfnbUWe9jDN_"
   },
   "source": [
    "Now let's calculate this using pytorch. The below code will construct the computational graph and stores the gradient of each variable inside of it."
   ]
  },
  {
   "cell_type": "code",
   "execution_count": null,
   "metadata": {
    "id": "JHOUb91BfSLV"
   },
   "outputs": [],
   "source": [
    "L.backward()"
   ]
  },
  {
   "cell_type": "markdown",
   "metadata": {
    "id": "DPlm6Y-WjdqQ"
   },
   "source": [
    "Check whether the result of your calculations is the same with the autograd's output."
   ]
  },
  {
   "cell_type": "code",
   "execution_count": null,
   "metadata": {
    "colab": {
     "base_uri": "https://localhost:8080/"
    },
    "id": "dTATg0EXfemL",
    "outputId": "b7d9819e-d293-4de2-964a-aed8301c638c"
   },
   "outputs": [
    {
     "name": "stdout",
     "output_type": "stream",
     "text": [
      "P_1 grad: 32.4903678894043\n",
      "P_2 grad: -96.02432250976562\n"
     ]
    }
   ],
   "source": [
    "print(f\"P_1 grad: {p1.grad.item()}\\nP_2 grad: {p2.grad.item()}\")"
   ]
  },
  {
   "cell_type": "markdown",
   "metadata": {
    "id": "bnNZl6e6jpqt"
   },
   "source": [
    "## Transform "
   ]
  },
  {
   "cell_type": "markdown",
   "metadata": {
    "id": "LU7tlE9JkdPq"
   },
   "source": [
    "Data does not always come in its final processed form that is required for training machine learning algorithms. We use transforms to perform some manipulation of the data and make it suitable for training. For more details, you can read [this link](https://pytorch.org/vision/stable/transforms.html)\n",
    "\n",
    "There are many transformations that are already implemented inside pytorch that you can use. Here we are going to implement some transformation from scratch using PyTorch's framework."
   ]
  },
  {
   "cell_type": "markdown",
   "metadata": {
    "id": "axRueoKYkrq2"
   },
   "source": [
    "#### Random Horizontal Flip Transformation"
   ]
  },
  {
   "cell_type": "markdown",
   "metadata": {
    "id": "VWJaLIkgl6im"
   },
   "source": [
    "Define a transformation that flips the image (horizontally) with probability of $p$. In order to implement a simple transformation class, you need to have two methods: `__init__` and `__call__` (which receives the image)"
   ]
  },
  {
   "cell_type": "code",
   "execution_count": null,
   "metadata": {
    "id": "tpVu037dkqGW"
   },
   "outputs": [],
   "source": [
    "class RandomHorizontalFlip(object):\n",
    "    def __init__(self, p=0.5):\n",
    "        self.p = p\n",
    "  \n",
    "    def __call__(self, x):\n",
    "        flag = torch.multinomial(torch.tensor([1-self.p, self.p]), 1)        \n",
    "        if flag == 1:\n",
    "            x = x.flip(1)\n",
    "        \n",
    "        return x"
   ]
  },
  {
   "cell_type": "markdown",
   "metadata": {
    "id": "p7kC6zOOmraA"
   },
   "source": [
    "#### Random Color Swap"
   ]
  },
  {
   "cell_type": "markdown",
   "metadata": {
    "id": "LcFPotJVmzha"
   },
   "source": [
    "Now that you have learned how to implement a transformation class, let's build another one. Define a transformation which swaps the colors (in the gray scale image) with probability of $p$. For example, if the given image had a white colored number with a black background, it should output an image with black colored number and a white background.\n",
    "\n",
    "**Hint:** for a given input $x$, you can concider the swapped color version of it as $x_{new} = m - x$ where $m$ is the maximum value in image $x$"
   ]
  },
  {
   "cell_type": "code",
   "execution_count": null,
   "metadata": {
    "id": "5_4W0QeDmxrZ"
   },
   "outputs": [],
   "source": [
    "# Place your code here (5 Points)\n",
    "class RandomColorSwap(object):\n",
    "    def __init__(self, p=0.5):\n",
    "        self.p = p\n",
    "  \n",
    "    def __call__(self, x):\n",
    "        flag = torch.multinomial(torch.tensor([1-self.p, self.p]), 1)\n",
    "        if flag == 1:\n",
    "            x = torch.max(x) - x\n",
    "        \n",
    "        return x"
   ]
  },
  {
   "cell_type": "markdown",
   "metadata": {
    "id": "6sO1GAmQn-D_"
   },
   "source": [
    "### Evaluation of transformations"
   ]
  },
  {
   "cell_type": "markdown",
   "metadata": {
    "id": "gU8dglTeoCSq"
   },
   "source": [
    "Now, let's apply these transformations on some images of our dataset. You can stack different transformation using `Compose`"
   ]
  },
  {
   "cell_type": "code",
   "execution_count": null,
   "metadata": {
    "id": "HhU0pqttoBC7"
   },
   "outputs": [],
   "source": [
    "trans = transforms.Compose([\n",
    "  RandomHorizontalFlip(p=0.7),\n",
    "  RandomColorSwap()\n",
    "])"
   ]
  },
  {
   "cell_type": "code",
   "execution_count": null,
   "metadata": {
    "colab": {
     "base_uri": "https://localhost:8080/",
     "height": 239
    },
    "id": "WjTBM5N8oMJQ",
    "outputId": "681806db-67ec-4971-9880-1178afbc5d7a"
   },
   "outputs": [
    {
     "data": {
      "image/png": "[encoded data removed]",
      "text/plain": [
       "<Figure size 1800x360 with 20 Axes>"
      ]
     },
     "metadata": {},
     "output_type": "display_data"
    }
   ],
   "source": [
    "num_imgs = 10\n",
    "fig, axs = plt.subplots(2, num_imgs, figsize=(25, 5))\n",
    "for i, idx in enumerate(torch.randint(0, len(mnist_dataset), [num_imgs])):\n",
    "    x, y = mnist_dataset[idx]\n",
    "    axs[0, i].imshow(x[0], cmap='gray')\n",
    "    axs[1, i].imshow(trans(x)[0], cmap='gray')\n",
    "    for k in range(2):\n",
    "        axs[k, i].set_yticks([])\n",
    "        axs[k, i].set_xticks([])\n",
    "\n",
    "axs[0, 0].set_ylabel(\"Original\")\n",
    "axs[1, 0].set_ylabel(\"Transformed\");"
   ]
  },
  {
   "cell_type": "markdown",
   "metadata": {
    "id": "nrl6OhN_osOd"
   },
   "source": [
    "What we expect to see is that, some of them are fliped horizontally, some swapped in color, and some both."
   ]
  },
  {
   "cell_type": "markdown",
   "metadata": {
    "id": "6f3K_sOxpG3V"
   },
   "source": [
    "## Dataset"
   ]
  },
  {
   "cell_type": "markdown",
   "metadata": {
    "id": "sYh7GBGPpQhU"
   },
   "source": [
    "In this section, we are going to implement a dataset class. Inside `torchvision.datasets` there are many Datasets that are already implemented and ready to use. But, in many situations it's necessary to implement one by your self."
   ]
  },
  {
   "cell_type": "markdown",
   "metadata": {
    "id": "JqQjsiGTrW8l"
   },
   "source": [
    "Run the below cell to initialize our dataset"
   ]
  },
  {
   "cell_type": "code",
   "execution_count": null,
   "metadata": {
    "colab": {
     "base_uri": "https://localhost:8080/"
    },
    "id": "FztDAwMxrLRx",
    "outputId": "4608ebaf-881e-41f5-8303-dbef0a250e30"
   },
   "outputs": [
    {
     "name": "stderr",
     "output_type": "stream",
     "text": [
      "100%|██████████| 5000/5000 [00:02<00:00, 2073.45it/s]\n"
     ]
    }
   ],
   "source": [
    "dataset_path = \"new_mnist\"\n",
    "init_mnist_subset_directories(mnist_dataset, dataset_path)"
   ]
  },
  {
   "cell_type": "markdown",
   "metadata": {
    "id": "7iYvcVlhrmmk"
   },
   "source": [
    "If you take a look at `new_mnist` directory which is created in the directory you are working in, you see that it contains 10 folders with names from `0` to `9` indicating the label of the images inside it. Inside each, some files with name `data_{number}.pth` exist. Each `.pth` file is an image.\n",
    "\n",
    "Now you have to implement a Dataset on top of these files.\n",
    "The methods that you should implement in a Dataset (as you can see in the code) is as described below:\n",
    "- `__init__`: In our example assume that it only accepts `root_dir` and `transform` as it's parameters (You should apply the transformations before outputing the data)\n",
    "- `__len__`: Should return the number of data in your dataset\n",
    "- `__getitem__`: which receives an index, should return the data at the given index (which is a tuple here, containing image and the corresponding label) "
   ]
  },
  {
   "cell_type": "code",
   "execution_count": null,
   "metadata": {
    "id": "RixD6z30qt1o"
   },
   "outputs": [],
   "source": [
    "class MNISTDataset(Dataset):\n",
    "    def __init__(self, root_dir, transform):\n",
    "        # Place your code here (4 Points)\n",
    "        ## Hint: Use os.listdir(some_path) to get the list of files\n",
    "        self.labels = torch.tensor([])\n",
    "        self.images = torch.tensor([])\n",
    "        dir = os.listdir(root_dir)\n",
    "        \n",
    "        for label in dir:\n",
    "            _images = os.listdir(root_dir + '/' + label)\n",
    "            for img in _images:\n",
    "                root = root_dir + '/' + label + '/' + img\n",
    "                new_img = torch.load(root)\n",
    "                self.images = torch.cat((self.images, transform(new_img)))\n",
    "                self.labels = torch.cat((self.labels, torch.tensor([int(label)])))\n",
    "\n",
    "    def __len__(self):\n",
    "        return self.labels.shape[0]\n",
    "\n",
    "    def __getitem__(self, idx):\n",
    "        img = self.images[idx]\n",
    "        label = self.labels[idx]\n",
    "        return (img, label)"
   ]
  },
  {
   "cell_type": "markdown",
   "metadata": {
    "id": "ObSdu-MwuYJK"
   },
   "source": [
    "After you defined your dataset, let's use it."
   ]
  },
  {
   "cell_type": "code",
   "execution_count": null,
   "metadata": {
    "colab": {
     "base_uri": "https://localhost:8080/"
    },
    "id": "YctASmSEuiqG",
    "outputId": "502cedd0-838b-457c-9a7f-fe526e07ae2f"
   },
   "outputs": [
    {
     "data": {
      "text/plain": [
       "5000"
      ]
     },
     "execution_count": 23,
     "metadata": {},
     "output_type": "execute_result"
    }
   ],
   "source": [
    "my_dataset = MNISTDataset(root_dir=dataset_path, transform=RandomColorSwap())\n",
    "len(my_dataset)"
   ]
  },
  {
   "cell_type": "markdown",
   "metadata": {
    "id": "VMTt5b4wvWik"
   },
   "source": [
    "Visualize 10 samples (randomely) from your dataset with their labels"
   ]
  },
  {
   "cell_type": "code",
   "execution_count": null,
   "metadata": {
    "colab": {
     "base_uri": "https://localhost:8080/",
     "height": 262
    },
    "id": "nWMmwUvjudSr",
    "outputId": "ca7affdd-1494-421e-d78b-15cd66528615"
   },
   "outputs": [
    {
     "data": {
      "image/png": "[encoded data removed]",
      "text/plain": [
       "<Figure size 720x288 with 10 Axes>"
      ]
     },
     "metadata": {
      "needs_background": "light"
     },
     "output_type": "display_data"
    }
   ],
   "source": [
    "domain = torch.tensor([1]*len(my_dataset), dtype=torch.float)\n",
    "samples_idx = torch.multinomial(domain, 10)\n",
    "\n",
    "fig = plt.figure(figsize=(10, 4))\n",
    "for i in range(10):\n",
    "    fig.add_subplot(2, 5, i+1)\n",
    "    sample = my_dataset[samples_idx[i]]\n",
    "    plt.imshow(sample[0], cmap='gray')\n",
    "    plt.title(int(sample[1].item()))\n",
    "    plt.axis('off')\n",
    "plt.show();"
   ]
  },
  {
   "cell_type": "markdown",
   "metadata": {
    "id": "qKWNRCGuwDpf"
   },
   "source": [
    "## MNIST Classification"
   ]
  },
  {
   "cell_type": "markdown",
   "metadata": {
    "id": "DQ8QfxCnzESu"
   },
   "source": [
    "### Model\n",
    "Define your model (Based on what you have learned in the workshop). I highly encourage you to try different models with different layers in order to achieve a better accuracy\n",
    "\n",
    "**Notice:** You cannot use convolution layers in your model "
   ]
  },
  {
   "cell_type": "code",
   "execution_count": null,
   "metadata": {
    "id": "2rpkLTDazDgl"
   },
   "outputs": [],
   "source": [
    "# Place your code here (5 points)\n",
    "class DigitRecognizer(nn.Module):\n",
    "\n",
    "    def __init__(self):\n",
    "        super().__init__()\n",
    "        self.fc = nn.Sequential(\n",
    "            nn.Flatten(),\n",
    "            nn.Linear(784, 500),\n",
    "            nn.ReLU(),\n",
    "            nn.Dropout(p=0.4),\n",
    "            nn.Linear(500, 250),\n",
    "            nn.ReLU(),\n",
    "            nn.Linear(250, 10),\n",
    "            nn.Softmax(dim=1)\n",
    "        )\n",
    "\n",
    "    def forward(self, x: torch.tensor):\n",
    "        return self.fc(x)"
   ]
  },
  {
   "cell_type": "code",
   "execution_count": null,
   "metadata": {
    "colab": {
     "base_uri": "https://localhost:8080/"
    },
    "id": "rVXXfXBvzwY3",
    "outputId": "e3af3509-ad0b-46da-9340-32b426a663d3"
   },
   "outputs": [
    {
     "data": {
      "text/plain": [
       "DigitRecognizer(\n",
       "  (fc): Sequential(\n",
       "    (0): Flatten(start_dim=1, end_dim=-1)\n",
       "    (1): Linear(in_features=784, out_features=500, bias=True)\n",
       "    (2): ReLU()\n",
       "    (3): Dropout(p=0.4, inplace=False)\n",
       "    (4): Linear(in_features=500, out_features=250, bias=True)\n",
       "    (5): ReLU()\n",
       "    (6): Linear(in_features=250, out_features=10, bias=True)\n",
       "    (7): Softmax(dim=1)\n",
       "  )\n",
       ")"
      ]
     },
     "execution_count": 37,
     "metadata": {},
     "output_type": "execute_result"
    }
   ],
   "source": [
    "model = DigitRecognizer().to(device)\n",
    "model"
   ]
  },
  {
   "cell_type": "markdown",
   "metadata": {
    "id": "29ekb8vBz06M"
   },
   "source": [
    "### Dataset and Dataloader"
   ]
  },
  {
   "cell_type": "markdown",
   "metadata": {
    "id": "UIJbRn7C0MXI"
   },
   "source": [
    "Prepare datasets and dataloader for train/test. We use MNIST dataset that is already implemented inside `torchvision.datasets`.\n",
    "\n",
    " You need to split the `mnist_dataset` into `train_dataset` and `val_dataset`. \n",
    " \n",
    " You can also define more transformations that you think it would help the training process **(Optional)**."
   ]
  },
  {
   "cell_type": "code",
   "execution_count": null,
   "metadata": {
    "id": "OGASwi3AzzZV"
   },
   "outputs": [],
   "source": [
    "transform_compose = transforms.Compose([\n",
    "    transforms.ToTensor()\n",
    "])\n",
    "\n",
    "mnist_dataset = datasets.MNIST(root='dataset', train=True, download=True, transform=transform_compose)\n",
    "# Place your code here (1 points)\n",
    "## Notice: Split mnist_dataset into train_dataset and val_dataset\n",
    "train_size = int(0.9 * len(mnist_dataset))\n",
    "val_size = len(mnist_dataset) - train_size\n",
    "train_dataset, val_dataset = torch.utils.data.random_split(mnist_dataset, (train_size, val_size))\n",
    "\n",
    "# End of block for your code placement\n",
    "test_dataset = datasets.MNIST(root='dataset', train=False, download=True, transform=transforms.ToTensor())\n",
    "\n",
    "train_loader = DataLoader(dataset=train_dataset, batch_size=32, shuffle=True)\n",
    "val_loader = DataLoader(dataset=val_dataset, batch_size=32, shuffle=False)\n",
    "test_loader = DataLoader(dataset=test_dataset, batch_size=32, shuffle=False)"
   ]
  },
  {
   "cell_type": "markdown",
   "metadata": {
    "id": "8_knAsJK1eoL"
   },
   "source": [
    "### Criterion and Optimizer"
   ]
  },
  {
   "cell_type": "markdown",
   "metadata": {
    "id": "hCwVvh7v1mPy"
   },
   "source": [
    "you have to tune the `learning_rate` yourself (Based on your training process)"
   ]
  },
  {
   "cell_type": "code",
   "execution_count": null,
   "metadata": {
    "id": "3AiRenXy1jJO"
   },
   "outputs": [],
   "source": [
    "criterion = nn.CrossEntropyLoss().to(device)\n",
    "learning_rate= 1e-4\n",
    "optimizer = torch.optim.Adam(model.parameters(), lr=learning_rate)"
   ]
  },
  {
   "cell_type": "markdown",
   "metadata": {
    "id": "4c9K1Hlf12UF"
   },
   "source": [
    "### Train your model"
   ]
  },
  {
   "cell_type": "markdown",
   "metadata": {
    "id": "urJ44vOA2Exl"
   },
   "source": [
    "Write your training/validation loop in the following cell for an arbitrary number of epochs (until convergence is detected). You also need to store train/validation loss at each epoch in order to visualize them the after training is done."
   ]
  },
  {
   "cell_type": "code",
   "execution_count": null,
   "metadata": {
    "colab": {
     "base_uri": "https://localhost:8080/"
    },
    "id": "lyCVVo742PPQ",
    "outputId": "d573b59f-13e1-4592-b209-f6bc887d8f8a"
   },
   "outputs": [
    {
     "name": "stderr",
     "output_type": "stream",
     "text": [
      "Loss: 1.475e+00 - Acc: 98.76%: 100%|██████████| 1688/1688 [00:21<00:00, 80.16it/s]\n",
      "Loss: 1.488e+00 - Acc: 97.73%: 100%|██████████| 188/188 [00:01<00:00, 96.01it/s]\n"
     ]
    },
    {
     "name": "stdout",
     "output_type": "stream",
     "text": [
      "[Epoch 0]\tTrain Loss: 1.4753\tValidation Loss: 1.4885\n"
     ]
    },
    {
     "name": "stderr",
     "output_type": "stream",
     "text": [
      "Loss: 1.475e+00 - Acc: 98.84%: 100%|██████████| 1688/1688 [00:20<00:00, 81.98it/s]\n",
      "Loss: 1.487e+00 - Acc: 97.87%: 100%|██████████| 188/188 [00:01<00:00, 95.37it/s]\n"
     ]
    },
    {
     "name": "stdout",
     "output_type": "stream",
     "text": [
      "[Epoch 1]\tTrain Loss: 1.4746\tValidation Loss: 1.4875\n"
     ]
    },
    {
     "name": "stderr",
     "output_type": "stream",
     "text": [
      "Loss: 1.474e+00 - Acc: 98.86%: 100%|██████████| 1688/1688 [00:20<00:00, 82.09it/s]\n",
      "Loss: 1.487e+00 - Acc: 97.87%: 100%|██████████| 188/188 [00:01<00:00, 94.54it/s]\n"
     ]
    },
    {
     "name": "stdout",
     "output_type": "stream",
     "text": [
      "[Epoch 2]\tTrain Loss: 1.4742\tValidation Loss: 1.4870\n"
     ]
    },
    {
     "name": "stderr",
     "output_type": "stream",
     "text": [
      "Loss: 1.474e+00 - Acc: 98.86%: 100%|██████████| 1688/1688 [00:20<00:00, 81.09it/s]\n",
      "Loss: 1.487e+00 - Acc: 97.88%: 100%|██████████| 188/188 [00:01<00:00, 95.74it/s]\n"
     ]
    },
    {
     "name": "stdout",
     "output_type": "stream",
     "text": [
      "[Epoch 3]\tTrain Loss: 1.4743\tValidation Loss: 1.4870\n"
     ]
    },
    {
     "name": "stderr",
     "output_type": "stream",
     "text": [
      "Loss: 1.474e+00 - Acc: 98.90%: 100%|██████████| 1688/1688 [00:20<00:00, 81.57it/s]\n",
      "Loss: 1.487e+00 - Acc: 97.85%: 100%|██████████| 188/188 [00:02<00:00, 93.61it/s]\n"
     ]
    },
    {
     "name": "stdout",
     "output_type": "stream",
     "text": [
      "[Epoch 4]\tTrain Loss: 1.4739\tValidation Loss: 1.4873\n"
     ]
    },
    {
     "name": "stderr",
     "output_type": "stream",
     "text": [
      "Loss: 1.473e+00 - Acc: 98.94%: 100%|██████████| 1688/1688 [00:20<00:00, 81.73it/s]\n",
      "Loss: 1.486e+00 - Acc: 98.05%: 100%|██████████| 188/188 [00:01<00:00, 96.82it/s]\n"
     ]
    },
    {
     "name": "stdout",
     "output_type": "stream",
     "text": [
      "[Epoch 5]\tTrain Loss: 1.4732\tValidation Loss: 1.4858\n"
     ]
    },
    {
     "name": "stderr",
     "output_type": "stream",
     "text": [
      "Loss: 1.473e+00 - Acc: 98.97%: 100%|██████████| 1688/1688 [00:21<00:00, 79.64it/s]\n",
      "Loss: 1.487e+00 - Acc: 97.90%: 100%|██████████| 188/188 [00:02<00:00, 92.44it/s]\n"
     ]
    },
    {
     "name": "stdout",
     "output_type": "stream",
     "text": [
      "[Epoch 6]\tTrain Loss: 1.4730\tValidation Loss: 1.4869\n"
     ]
    },
    {
     "name": "stderr",
     "output_type": "stream",
     "text": [
      "Loss: 1.472e+00 - Acc: 99.02%: 100%|██████████| 1688/1688 [00:20<00:00, 80.68it/s]\n",
      "Loss: 1.486e+00 - Acc: 97.98%: 100%|██████████| 188/188 [00:02<00:00, 92.99it/s]\n"
     ]
    },
    {
     "name": "stdout",
     "output_type": "stream",
     "text": [
      "[Epoch 7]\tTrain Loss: 1.4724\tValidation Loss: 1.4861\n"
     ]
    },
    {
     "name": "stderr",
     "output_type": "stream",
     "text": [
      "Loss: 1.472e+00 - Acc: 99.01%: 100%|██████████| 1688/1688 [00:21<00:00, 80.29it/s]\n",
      "Loss: 1.487e+00 - Acc: 97.92%: 100%|██████████| 188/188 [00:01<00:00, 95.60it/s]\n"
     ]
    },
    {
     "name": "stdout",
     "output_type": "stream",
     "text": [
      "[Epoch 8]\tTrain Loss: 1.4725\tValidation Loss: 1.4872\n"
     ]
    },
    {
     "name": "stderr",
     "output_type": "stream",
     "text": [
      "Loss: 1.473e+00 - Acc: 98.97%: 100%|██████████| 1688/1688 [00:21<00:00, 79.10it/s]\n",
      "Loss: 1.486e+00 - Acc: 97.98%: 100%|██████████| 188/188 [00:02<00:00, 93.57it/s]"
     ]
    },
    {
     "name": "stdout",
     "output_type": "stream",
     "text": [
      "[Epoch 9]\tTrain Loss: 1.4729\tValidation Loss: 1.4855\n"
     ]
    },
    {
     "name": "stderr",
     "output_type": "stream",
     "text": [
      "\n"
     ]
    }
   ],
   "source": [
    "# total number of epochs = 40\n",
    "num_epochs = 10\n",
    "\n",
    "train_loss_arr, val_loss_arr = [], []\n",
    "for epoch in range(num_epochs):\n",
    "    train_loss, val_loss = 0, 0\n",
    "\n",
    "    model.train()\n",
    "    # Place your code here (5 points)\n",
    "    ## Hint: Loop throught train_loader, get images with their labels and train the model\n",
    "    ## Hint 2: To update train_loss inside the loop use \"train_loss += batch_loss * batch_size\"\"\n",
    "    N, correct = 0, 0\n",
    "    with tqdm.tqdm(enumerate(train_loader), total=len(train_loader)) as pbar:\n",
    "        for i, (x, y) in pbar:\n",
    "            x = x.to(device)\n",
    "            y = y.to(device)\n",
    "            p = model(x)\n",
    "\n",
    "            loss = criterion(p, y)\n",
    "            train_loss += float(loss) * train_loader.batch_size\n",
    "\n",
    "            predictions = p.argmax(-1)\n",
    "            N += len(predictions)\n",
    "            correct += (predictions == y).sum()\n",
    "\n",
    "            pbar.set_description(f'Loss: {train_loss / N:.3e} - Acc: {correct * 100. / N:.2f}%')\n",
    "            loss.backward()\n",
    "\n",
    "            optimizer.step()\n",
    "            optimizer.zero_grad()\n",
    "  \n",
    "  \n",
    "    model.eval()\n",
    "    # Place your code here (4 points)\n",
    "    ## Hint: Loop throught val_loader, get images with their labels and evaluate the model\n",
    "    ## Hint 2: To update val_loss inside the loop use \"val_loss += batch_loss * batch_size\"\"\n",
    "    N, correct = 0, 0\n",
    "    with torch.no_grad(), tqdm.tqdm(enumerate(val_loader), total=len(val_loader)) as pbar:\n",
    "        for i, (x, y) in pbar:\n",
    "            x = x.to(device)\n",
    "            y = y.to(device)\n",
    "            p = model(x)\n",
    "\n",
    "            loss = criterion(p, y)\n",
    "            val_loss += float(loss) * val_loader.batch_size\n",
    "\n",
    "            predictions = p.argmax(-1)\n",
    "            N += len(predictions)\n",
    "            correct += (predictions == y).sum()\n",
    "\n",
    "            pbar.set_description(f'Loss: {val_loss / N:.3e} - Acc: {correct * 100. / N:.2f}%')\n",
    "\n",
    "\n",
    "    train_loss /= len(train_loader.dataset)\n",
    "    val_loss /= len(val_loader.dataset)\n",
    "    train_loss_arr.append(train_loss)\n",
    "    val_loss_arr.append(val_loss)\n",
    "\n",
    "    print(f\"[Epoch {epoch}]\\t\"\n",
    "        f\"Train Loss: {train_loss:.4f}\\t\"\n",
    "        f\"Validation Loss: {val_loss:.4f}\")"
   ]
  },
  {
   "cell_type": "markdown",
   "metadata": {
    "id": "oe3KbjZG2mNd"
   },
   "source": [
    "#### Plot train/validation loss"
   ]
  },
  {
   "cell_type": "code",
   "execution_count": null,
   "metadata": {
    "colab": {
     "base_uri": "https://localhost:8080/",
     "height": 265
    },
    "id": "nNwH8WMy2qmr",
    "outputId": "ba68a804-7b3c-4923-9151-c169091810ac"
   },
   "outputs": [
    {
     "data": {
      "image/png": "[encoded data removed]",
      "text/plain": [
       "<Figure size 432x288 with 1 Axes>"
      ]
     },
     "metadata": {
      "needs_background": "light"
     },
     "output_type": "display_data"
    }
   ],
   "source": [
    "# Place your code here (1 points)\n",
    "plt.plot(train_loss_arr, label='train')\n",
    "plt.plot(val_loss_arr, label='val')\n",
    "plt.legend();"
   ]
  },
  {
   "cell_type": "markdown",
   "metadata": {
    "id": "AKsD6NhU2w71"
   },
   "source": [
    "### Evaluation"
   ]
  },
  {
   "cell_type": "markdown",
   "metadata": {
    "id": "oZcXJuWX255T"
   },
   "source": [
    "Evaluate your model on test set. you have to report both loss and accuracy.\n",
    "\n",
    "In order to get the full score of this section, you need to achieve an accuracy above $95\\%$ and to get the extra points, your accuracy should be above $98\\%$ \n",
    "\n",
    "**Notice:** You should use test set only for evaluation of your model."
   ]
  },
  {
   "cell_type": "code",
   "execution_count": null,
   "metadata": {
    "colab": {
     "base_uri": "https://localhost:8080/"
    },
    "id": "bl4bsjhg2xMo",
    "outputId": "85a502d4-bb95-4484-c34e-d7627ae74822"
   },
   "outputs": [
    {
     "name": "stderr",
     "output_type": "stream",
     "text": [
      "Loss: 1.483e+00 - Acc: 98.09%: 100%|██████████| 313/313 [00:03<00:00, 93.14it/s]\n"
     ]
    }
   ],
   "source": [
    "# Place your code here (4 points + 5 Extra)\n",
    "test_loss = 0\n",
    "N, correct = 0, 0\n",
    "with torch.no_grad(), tqdm.tqdm(enumerate(test_loader), total=len(test_loader)) as pbar:\n",
    "    for i, (x, y) in pbar:\n",
    "        x = x.to(device)\n",
    "        y = y.to(device)\n",
    "        p = model(x)\n",
    "\n",
    "        loss = criterion(p, y)\n",
    "        test_loss += float(loss) * test_loader.batch_size\n",
    "\n",
    "        predictions = p.argmax(-1)\n",
    "        N += len(predictions)\n",
    "        correct += (predictions == y).sum()\n",
    "\n",
    "        pbar.set_description(f'Loss: {test_loss / N:.3e} - Acc: {correct * 100. / N:.2f}%')"
   ]
  },
  {
   "cell_type": "markdown",
   "metadata": {
    "id": "w4eZsFnV3rTi"
   },
   "source": [
    "### Visualization of wrong prediction"
   ]
  },
  {
   "cell_type": "markdown",
   "metadata": {
    "id": "y9jvB_lZ3uqx"
   },
   "source": [
    "Visualize $8$ samples (along with original label and model's prediction) from test set which are labeled wrong by your model"
   ]
  },
  {
   "cell_type": "code",
   "execution_count": null,
   "metadata": {
    "colab": {
     "base_uri": "https://localhost:8080/",
     "height": 238
    },
    "id": "8rLlhJvE4IjZ",
    "outputId": "ab565940-5ba6-4690-f8f6-c7cb87dd18f9"
   },
   "outputs": [
    {
     "data": {
      "image/png": "[encoded data removed]",
      "text/plain": [
       "<Figure size 432x288 with 8 Axes>"
      ]
     },
     "metadata": {
      "needs_background": "light"
     },
     "output_type": "display_data"
    }
   ],
   "source": [
    "# Place your code here (5 points)\n",
    "samples = []\n",
    "i = 0\n",
    "domain = torch.tensor([1]*len(test_dataset), dtype=torch.float)\n",
    "while i < 8:\n",
    "    idx = torch.multinomial(domain, 1)\n",
    "    x, y = test_dataset[idx[0]]\n",
    "    x = x.to(device)\n",
    "    p = model(x).argmax(-1)\n",
    "\n",
    "    if p != y:\n",
    "        samples.append((x, y, p))\n",
    "        i += 1\n",
    "\n",
    "\n",
    "fig, axes = plt.subplots(2, 4)\n",
    "for i in range(8):\n",
    "    axes[i//4, i%4].imshow(samples[i][0].cpu()[0], cmap='gray')\n",
    "    axes[i//4, i%4].set_title(f'o:{samples[i][1]}, p:{samples[i][2][0]}')\n",
    "    axes[i//4, i%4].axis('off')\n",
    "\n",
    "plt.show();"
   ]
  }
 ],
 "metadata": {
  "accelerator": "GPU",
  "colab": {
   "collapsed_sections": [],
   "name": "Q2.ipynb",
   "provenance": []
  },
  "interpreter": {
   "hash": "f336af7d54ba0f0c1daaf2256eb85f31e983e88153daf7a27ef3ea6c724faba4"
  },
  "kernelspec": {
   "display_name": "Python 3",
   "language": "python",
   "name": "python3"
  },
  "language_info": {
   "codemirror_mode": {
    "name": "ipython",
    "version": 3
   },
   "file_extension": ".py",
   "mimetype": "text/x-python",
   "name": "python",
   "nbconvert_exporter": "python",
   "pygments_lexer": "ipython3",
   "version": "3.9.4"
  },
  "widgets": {
   "application/vnd.jupyter.widget-state+json": {
    "00c5fa213042435d948db1c3eadaa4fb": {
     "model_module": "@jupyter-widgets/controls",
     "model_module_version": "1.5.0",
     "model_name": "FloatProgressModel",
     "state": {
      "_dom_classes": [],
      "_model_module": "@jupyter-widgets/controls",
      "_model_module_version": "1.5.0",
      "_model_name": "FloatProgressModel",
      "_view_count": null,
      "_view_module": "@jupyter-widgets/controls",
      "_view_module_version": "1.5.0",
      "_view_name": "ProgressView",
      "bar_style": "success",
      "description": "",
      "description_tooltip": null,
      "layout": "IPY_MODEL_a68f360a88d542569ae104f9f3aa8a9b",
      "max": 9912422,
      "min": 0,
      "orientation": "horizontal",
      "style": "IPY_MODEL_6ad3175152114e448f1026f177623163",
      "value": 9912422
     }
    },
    "04c6e865b313435280894b1635ea97cc": {
     "model_module": "@jupyter-widgets/base",
     "model_module_version": "1.2.0",
     "model_name": "LayoutModel",
     "state": {
      "_model_module": "@jupyter-widgets/base",
      "_model_module_version": "1.2.0",
      "_model_name": "LayoutModel",
      "_view_count": null,
      "_view_module": "@jupyter-widgets/base",
      "_view_module_version": "1.2.0",
      "_view_name": "LayoutView",
      "align_content": null,
      "align_items": null,
      "align_self": null,
      "border": null,
      "bottom": null,
      "display": null,
      "flex": null,
      "flex_flow": null,
      "grid_area": null,
      "grid_auto_columns": null,
      "grid_auto_flow": null,
      "grid_auto_rows": null,
      "grid_column": null,
      "grid_gap": null,
      "grid_row": null,
      "grid_template_areas": null,
      "grid_template_columns": null,
      "grid_template_rows": null,
      "height": null,
      "justify_content": null,
      "justify_items": null,
      "left": null,
      "margin": null,
      "max_height": null,
      "max_width": null,
      "min_height": null,
      "min_width": null,
      "object_fit": null,
      "object_position": null,
      "order": null,
      "overflow": null,
      "overflow_x": null,
      "overflow_y": null,
      "padding": null,
      "right": null,
      "top": null,
      "visibility": null,
      "width": null
     }
    },
    "09cdec28c2ce4dcdb92c0c1f9a2e7de2": {
     "model_module": "@jupyter-widgets/controls",
     "model_module_version": "1.5.0",
     "model_name": "DescriptionStyleModel",
     "state": {
      "_model_module": "@jupyter-widgets/controls",
      "_model_module_version": "1.5.0",
      "_model_name": "DescriptionStyleModel",
      "_view_count": null,
      "_view_module": "@jupyter-widgets/base",
      "_view_module_version": "1.2.0",
      "_view_name": "StyleView",
      "description_width": ""
     }
    },
    "0a7f2bd42f864dfea3181039bd16d890": {
     "model_module": "@jupyter-widgets/controls",
     "model_module_version": "1.5.0",
     "model_name": "HTMLModel",
     "state": {
      "_dom_classes": [],
      "_model_module": "@jupyter-widgets/controls",
      "_model_module_version": "1.5.0",
      "_model_name": "HTMLModel",
      "_view_count": null,
      "_view_module": "@jupyter-widgets/controls",
      "_view_module_version": "1.5.0",
      "_view_name": "HTMLView",
      "description": "",
      "description_tooltip": null,
      "layout": "IPY_MODEL_79238a59ddbf4988a19f19612876db48",
      "placeholder": "​",
      "style": "IPY_MODEL_09cdec28c2ce4dcdb92c0c1f9a2e7de2",
      "value": " 1649664/? [00:00&lt;00:00, 17240784.48it/s]"
     }
    },
    "11b0cf61dea643b5b4c59a3b191cff71": {
     "model_module": "@jupyter-widgets/controls",
     "model_module_version": "1.5.0",
     "model_name": "DescriptionStyleModel",
     "state": {
      "_model_module": "@jupyter-widgets/controls",
      "_model_module_version": "1.5.0",
      "_model_name": "DescriptionStyleModel",
      "_view_count": null,
      "_view_module": "@jupyter-widgets/base",
      "_view_module_version": "1.2.0",
      "_view_name": "StyleView",
      "description_width": ""
     }
    },
    "12116704a7de4e0b91ec4839a6e1715f": {
     "model_module": "@jupyter-widgets/controls",
     "model_module_version": "1.5.0",
     "model_name": "ProgressStyleModel",
     "state": {
      "_model_module": "@jupyter-widgets/controls",
      "_model_module_version": "1.5.0",
      "_model_name": "ProgressStyleModel",
      "_view_count": null,
      "_view_module": "@jupyter-widgets/base",
      "_view_module_version": "1.2.0",
      "_view_name": "StyleView",
      "bar_color": null,
      "description_width": ""
     }
    },
    "2ba9f2ede3894b2cbf64ea9a81733726": {
     "model_module": "@jupyter-widgets/controls",
     "model_module_version": "1.5.0",
     "model_name": "HTMLModel",
     "state": {
      "_dom_classes": [],
      "_model_module": "@jupyter-widgets/controls",
      "_model_module_version": "1.5.0",
      "_model_name": "HTMLModel",
      "_view_count": null,
      "_view_module": "@jupyter-widgets/controls",
      "_view_module_version": "1.5.0",
      "_view_name": "HTMLView",
      "description": "",
      "description_tooltip": null,
      "layout": "IPY_MODEL_dd99c79a4556462caf6ae6fa5039c784",
      "placeholder": "​",
      "style": "IPY_MODEL_2d0c084de23e456182d997d464989a2c",
      "value": " 9913344/? [00:00&lt;00:00, 55993014.40it/s]"
     }
    },
    "2d0c084de23e456182d997d464989a2c": {
     "model_module": "@jupyter-widgets/controls",
     "model_module_version": "1.5.0",
     "model_name": "DescriptionStyleModel",
     "state": {
      "_model_module": "@jupyter-widgets/controls",
      "_model_module_version": "1.5.0",
      "_model_name": "DescriptionStyleModel",
      "_view_count": null,
      "_view_module": "@jupyter-widgets/base",
      "_view_module_version": "1.2.0",
      "_view_name": "StyleView",
      "description_width": ""
     }
    },
    "2f35520b13b9431ea90a1d0dd9425d95": {
     "model_module": "@jupyter-widgets/controls",
     "model_module_version": "1.5.0",
     "model_name": "ProgressStyleModel",
     "state": {
      "_model_module": "@jupyter-widgets/controls",
      "_model_module_version": "1.5.0",
      "_model_name": "ProgressStyleModel",
      "_view_count": null,
      "_view_module": "@jupyter-widgets/base",
      "_view_module_version": "1.2.0",
      "_view_name": "StyleView",
      "bar_color": null,
      "description_width": ""
     }
    },
    "348c3fb7a25d48eab8dc22baf79cca69": {
     "model_module": "@jupyter-widgets/base",
     "model_module_version": "1.2.0",
     "model_name": "LayoutModel",
     "state": {
      "_model_module": "@jupyter-widgets/base",
      "_model_module_version": "1.2.0",
      "_model_name": "LayoutModel",
      "_view_count": null,
      "_view_module": "@jupyter-widgets/base",
      "_view_module_version": "1.2.0",
      "_view_name": "LayoutView",
      "align_content": null,
      "align_items": null,
      "align_self": null,
      "border": null,
      "bottom": null,
      "display": null,
      "flex": null,
      "flex_flow": null,
      "grid_area": null,
      "grid_auto_columns": null,
      "grid_auto_flow": null,
      "grid_auto_rows": null,
      "grid_column": null,
      "grid_gap": null,
      "grid_row": null,
      "grid_template_areas": null,
      "grid_template_columns": null,
      "grid_template_rows": null,
      "height": null,
      "justify_content": null,
      "justify_items": null,
      "left": null,
      "margin": null,
      "max_height": null,
      "max_width": null,
      "min_height": null,
      "min_width": null,
      "object_fit": null,
      "object_position": null,
      "order": null,
      "overflow": null,
      "overflow_x": null,
      "overflow_y": null,
      "padding": null,
      "right": null,
      "top": null,
      "visibility": null,
      "width": null
     }
    },
    "3881a92072794a869b9a8ef5259a6cb7": {
     "model_module": "@jupyter-widgets/controls",
     "model_module_version": "1.5.0",
     "model_name": "FloatProgressModel",
     "state": {
      "_dom_classes": [],
      "_model_module": "@jupyter-widgets/controls",
      "_model_module_version": "1.5.0",
      "_model_name": "FloatProgressModel",
      "_view_count": null,
      "_view_module": "@jupyter-widgets/controls",
      "_view_module_version": "1.5.0",
      "_view_name": "ProgressView",
      "bar_style": "success",
      "description": "",
      "description_tooltip": null,
      "layout": "IPY_MODEL_04c6e865b313435280894b1635ea97cc",
      "max": 1648877,
      "min": 0,
      "orientation": "horizontal",
      "style": "IPY_MODEL_2f35520b13b9431ea90a1d0dd9425d95",
      "value": 1648877
     }
    },
    "3b1dfe7308574fd5be6e45de85b6ebc5": {
     "model_module": "@jupyter-widgets/base",
     "model_module_version": "1.2.0",
     "model_name": "LayoutModel",
     "state": {
      "_model_module": "@jupyter-widgets/base",
      "_model_module_version": "1.2.0",
      "_model_name": "LayoutModel",
      "_view_count": null,
      "_view_module": "@jupyter-widgets/base",
      "_view_module_version": "1.2.0",
      "_view_name": "LayoutView",
      "align_content": null,
      "align_items": null,
      "align_self": null,
      "border": null,
      "bottom": null,
      "display": null,
      "flex": null,
      "flex_flow": null,
      "grid_area": null,
      "grid_auto_columns": null,
      "grid_auto_flow": null,
      "grid_auto_rows": null,
      "grid_column": null,
      "grid_gap": null,
      "grid_row": null,
      "grid_template_areas": null,
      "grid_template_columns": null,
      "grid_template_rows": null,
      "height": null,
      "justify_content": null,
      "justify_items": null,
      "left": null,
      "margin": null,
      "max_height": null,
      "max_width": null,
      "min_height": null,
      "min_width": null,
      "object_fit": null,
      "object_position": null,
      "order": null,
      "overflow": null,
      "overflow_x": null,
      "overflow_y": null,
      "padding": null,
      "right": null,
      "top": null,
      "visibility": null,
      "width": null
     }
    },
    "40c866c1d4b445a68427c07ffe2613b5": {
     "model_module": "@jupyter-widgets/base",
     "model_module_version": "1.2.0",
     "model_name": "LayoutModel",
     "state": {
      "_model_module": "@jupyter-widgets/base",
      "_model_module_version": "1.2.0",
      "_model_name": "LayoutModel",
      "_view_count": null,
      "_view_module": "@jupyter-widgets/base",
      "_view_module_version": "1.2.0",
      "_view_name": "LayoutView",
      "align_content": null,
      "align_items": null,
      "align_self": null,
      "border": null,
      "bottom": null,
      "display": null,
      "flex": null,
      "flex_flow": null,
      "grid_area": null,
      "grid_auto_columns": null,
      "grid_auto_flow": null,
      "grid_auto_rows": null,
      "grid_column": null,
      "grid_gap": null,
      "grid_row": null,
      "grid_template_areas": null,
      "grid_template_columns": null,
      "grid_template_rows": null,
      "height": null,
      "justify_content": null,
      "justify_items": null,
      "left": null,
      "margin": null,
      "max_height": null,
      "max_width": null,
      "min_height": null,
      "min_width": null,
      "object_fit": null,
      "object_position": null,
      "order": null,
      "overflow": null,
      "overflow_x": null,
      "overflow_y": null,
      "padding": null,
      "right": null,
      "top": null,
      "visibility": null,
      "width": null
     }
    },
    "40ed870f647147b393afdc74b3e4807e": {
     "model_module": "@jupyter-widgets/controls",
     "model_module_version": "1.5.0",
     "model_name": "DescriptionStyleModel",
     "state": {
      "_model_module": "@jupyter-widgets/controls",
      "_model_module_version": "1.5.0",
      "_model_name": "DescriptionStyleModel",
      "_view_count": null,
      "_view_module": "@jupyter-widgets/base",
      "_view_module_version": "1.2.0",
      "_view_name": "StyleView",
      "description_width": ""
     }
    },
    "41674a0dc4a24ed1ad17284f651ec6b1": {
     "model_module": "@jupyter-widgets/controls",
     "model_module_version": "1.5.0",
     "model_name": "HTMLModel",
     "state": {
      "_dom_classes": [],
      "_model_module": "@jupyter-widgets/controls",
      "_model_module_version": "1.5.0",
      "_model_name": "HTMLModel",
      "_view_count": null,
      "_view_module": "@jupyter-widgets/controls",
      "_view_module_version": "1.5.0",
      "_view_name": "HTMLView",
      "description": "",
      "description_tooltip": null,
      "layout": "IPY_MODEL_8e7d2e3fa4f547ab951861caa1a3f85f",
      "placeholder": "​",
      "style": "IPY_MODEL_fc03b17fb8a841c6a401530d0a98961c",
      "value": ""
     }
    },
    "43ab11ca20b9408a8121a7d51cf81932": {
     "model_module": "@jupyter-widgets/base",
     "model_module_version": "1.2.0",
     "model_name": "LayoutModel",
     "state": {
      "_model_module": "@jupyter-widgets/base",
      "_model_module_version": "1.2.0",
      "_model_name": "LayoutModel",
      "_view_count": null,
      "_view_module": "@jupyter-widgets/base",
      "_view_module_version": "1.2.0",
      "_view_name": "LayoutView",
      "align_content": null,
      "align_items": null,
      "align_self": null,
      "border": null,
      "bottom": null,
      "display": null,
      "flex": null,
      "flex_flow": null,
      "grid_area": null,
      "grid_auto_columns": null,
      "grid_auto_flow": null,
      "grid_auto_rows": null,
      "grid_column": null,
      "grid_gap": null,
      "grid_row": null,
      "grid_template_areas": null,
      "grid_template_columns": null,
      "grid_template_rows": null,
      "height": null,
      "justify_content": null,
      "justify_items": null,
      "left": null,
      "margin": null,
      "max_height": null,
      "max_width": null,
      "min_height": null,
      "min_width": null,
      "object_fit": null,
      "object_position": null,
      "order": null,
      "overflow": null,
      "overflow_x": null,
      "overflow_y": null,
      "padding": null,
      "right": null,
      "top": null,
      "visibility": null,
      "width": null
     }
    },
    "54f98f446a6b4d31844ba09074629ad8": {
     "model_module": "@jupyter-widgets/base",
     "model_module_version": "1.2.0",
     "model_name": "LayoutModel",
     "state": {
      "_model_module": "@jupyter-widgets/base",
      "_model_module_version": "1.2.0",
      "_model_name": "LayoutModel",
      "_view_count": null,
      "_view_module": "@jupyter-widgets/base",
      "_view_module_version": "1.2.0",
      "_view_name": "LayoutView",
      "align_content": null,
      "align_items": null,
      "align_self": null,
      "border": null,
      "bottom": null,
      "display": null,
      "flex": null,
      "flex_flow": null,
      "grid_area": null,
      "grid_auto_columns": null,
      "grid_auto_flow": null,
      "grid_auto_rows": null,
      "grid_column": null,
      "grid_gap": null,
      "grid_row": null,
      "grid_template_areas": null,
      "grid_template_columns": null,
      "grid_template_rows": null,
      "height": null,
      "justify_content": null,
      "justify_items": null,
      "left": null,
      "margin": null,
      "max_height": null,
      "max_width": null,
      "min_height": null,
      "min_width": null,
      "object_fit": null,
      "object_position": null,
      "order": null,
      "overflow": null,
      "overflow_x": null,
      "overflow_y": null,
      "padding": null,
      "right": null,
      "top": null,
      "visibility": null,
      "width": null
     }
    },
    "5905bdefc4424330918ec7c7cd806a3a": {
     "model_module": "@jupyter-widgets/controls",
     "model_module_version": "1.5.0",
     "model_name": "HTMLModel",
     "state": {
      "_dom_classes": [],
      "_model_module": "@jupyter-widgets/controls",
      "_model_module_version": "1.5.0",
      "_model_name": "HTMLModel",
      "_view_count": null,
      "_view_module": "@jupyter-widgets/controls",
      "_view_module_version": "1.5.0",
      "_view_name": "HTMLView",
      "description": "",
      "description_tooltip": null,
      "layout": "IPY_MODEL_348c3fb7a25d48eab8dc22baf79cca69",
      "placeholder": "​",
      "style": "IPY_MODEL_e695c37012164055bd885aa5737eead9",
      "value": " 29696/? [00:00&lt;00:00, 753033.81it/s]"
     }
    },
    "6ad3175152114e448f1026f177623163": {
     "model_module": "@jupyter-widgets/controls",
     "model_module_version": "1.5.0",
     "model_name": "ProgressStyleModel",
     "state": {
      "_model_module": "@jupyter-widgets/controls",
      "_model_module_version": "1.5.0",
      "_model_name": "ProgressStyleModel",
      "_view_count": null,
      "_view_module": "@jupyter-widgets/base",
      "_view_module_version": "1.2.0",
      "_view_name": "StyleView",
      "bar_color": null,
      "description_width": ""
     }
    },
    "761649b15730451c933cfc644f41d6b2": {
     "model_module": "@jupyter-widgets/controls",
     "model_module_version": "1.5.0",
     "model_name": "FloatProgressModel",
     "state": {
      "_dom_classes": [],
      "_model_module": "@jupyter-widgets/controls",
      "_model_module_version": "1.5.0",
      "_model_name": "FloatProgressModel",
      "_view_count": null,
      "_view_module": "@jupyter-widgets/controls",
      "_view_module_version": "1.5.0",
      "_view_name": "ProgressView",
      "bar_style": "success",
      "description": "",
      "description_tooltip": null,
      "layout": "IPY_MODEL_9a978b4f75ed48d7b0097146103df74e",
      "max": 4542,
      "min": 0,
      "orientation": "horizontal",
      "style": "IPY_MODEL_12116704a7de4e0b91ec4839a6e1715f",
      "value": 4542
     }
    },
    "79238a59ddbf4988a19f19612876db48": {
     "model_module": "@jupyter-widgets/base",
     "model_module_version": "1.2.0",
     "model_name": "LayoutModel",
     "state": {
      "_model_module": "@jupyter-widgets/base",
      "_model_module_version": "1.2.0",
      "_model_name": "LayoutModel",
      "_view_count": null,
      "_view_module": "@jupyter-widgets/base",
      "_view_module_version": "1.2.0",
      "_view_name": "LayoutView",
      "align_content": null,
      "align_items": null,
      "align_self": null,
      "border": null,
      "bottom": null,
      "display": null,
      "flex": null,
      "flex_flow": null,
      "grid_area": null,
      "grid_auto_columns": null,
      "grid_auto_flow": null,
      "grid_auto_rows": null,
      "grid_column": null,
      "grid_gap": null,
      "grid_row": null,
      "grid_template_areas": null,
      "grid_template_columns": null,
      "grid_template_rows": null,
      "height": null,
      "justify_content": null,
      "justify_items": null,
      "left": null,
      "margin": null,
      "max_height": null,
      "max_width": null,
      "min_height": null,
      "min_width": null,
      "object_fit": null,
      "object_position": null,
      "order": null,
      "overflow": null,
      "overflow_x": null,
      "overflow_y": null,
      "padding": null,
      "right": null,
      "top": null,
      "visibility": null,
      "width": null
     }
    },
    "8289c156a61e482896a78732f4122752": {
     "model_module": "@jupyter-widgets/base",
     "model_module_version": "1.2.0",
     "model_name": "LayoutModel",
     "state": {
      "_model_module": "@jupyter-widgets/base",
      "_model_module_version": "1.2.0",
      "_model_name": "LayoutModel",
      "_view_count": null,
      "_view_module": "@jupyter-widgets/base",
      "_view_module_version": "1.2.0",
      "_view_name": "LayoutView",
      "align_content": null,
      "align_items": null,
      "align_self": null,
      "border": null,
      "bottom": null,
      "display": null,
      "flex": null,
      "flex_flow": null,
      "grid_area": null,
      "grid_auto_columns": null,
      "grid_auto_flow": null,
      "grid_auto_rows": null,
      "grid_column": null,
      "grid_gap": null,
      "grid_row": null,
      "grid_template_areas": null,
      "grid_template_columns": null,
      "grid_template_rows": null,
      "height": null,
      "justify_content": null,
      "justify_items": null,
      "left": null,
      "margin": null,
      "max_height": null,
      "max_width": null,
      "min_height": null,
      "min_width": null,
      "object_fit": null,
      "object_position": null,
      "order": null,
      "overflow": null,
      "overflow_x": null,
      "overflow_y": null,
      "padding": null,
      "right": null,
      "top": null,
      "visibility": null,
      "width": null
     }
    },
    "877ae66384fb49669b6b3b04838121ff": {
     "model_module": "@jupyter-widgets/controls",
     "model_module_version": "1.5.0",
     "model_name": "HTMLModel",
     "state": {
      "_dom_classes": [],
      "_model_module": "@jupyter-widgets/controls",
      "_model_module_version": "1.5.0",
      "_model_name": "HTMLModel",
      "_view_count": null,
      "_view_module": "@jupyter-widgets/controls",
      "_view_module_version": "1.5.0",
      "_view_name": "HTMLView",
      "description": "",
      "description_tooltip": null,
      "layout": "IPY_MODEL_8a541b007a5b464e998c777c3aaee585",
      "placeholder": "​",
      "style": "IPY_MODEL_c4de484aa51f43a59385cdef0371e637",
      "value": ""
     }
    },
    "8a541b007a5b464e998c777c3aaee585": {
     "model_module": "@jupyter-widgets/base",
     "model_module_version": "1.2.0",
     "model_name": "LayoutModel",
     "state": {
      "_model_module": "@jupyter-widgets/base",
      "_model_module_version": "1.2.0",
      "_model_name": "LayoutModel",
      "_view_count": null,
      "_view_module": "@jupyter-widgets/base",
      "_view_module_version": "1.2.0",
      "_view_name": "LayoutView",
      "align_content": null,
      "align_items": null,
      "align_self": null,
      "border": null,
      "bottom": null,
      "display": null,
      "flex": null,
      "flex_flow": null,
      "grid_area": null,
      "grid_auto_columns": null,
      "grid_auto_flow": null,
      "grid_auto_rows": null,
      "grid_column": null,
      "grid_gap": null,
      "grid_row": null,
      "grid_template_areas": null,
      "grid_template_columns": null,
      "grid_template_rows": null,
      "height": null,
      "justify_content": null,
      "justify_items": null,
      "left": null,
      "margin": null,
      "max_height": null,
      "max_width": null,
      "min_height": null,
      "min_width": null,
      "object_fit": null,
      "object_position": null,
      "order": null,
      "overflow": null,
      "overflow_x": null,
      "overflow_y": null,
      "padding": null,
      "right": null,
      "top": null,
      "visibility": null,
      "width": null
     }
    },
    "8e7d2e3fa4f547ab951861caa1a3f85f": {
     "model_module": "@jupyter-widgets/base",
     "model_module_version": "1.2.0",
     "model_name": "LayoutModel",
     "state": {
      "_model_module": "@jupyter-widgets/base",
      "_model_module_version": "1.2.0",
      "_model_name": "LayoutModel",
      "_view_count": null,
      "_view_module": "@jupyter-widgets/base",
      "_view_module_version": "1.2.0",
      "_view_name": "LayoutView",
      "align_content": null,
      "align_items": null,
      "align_self": null,
      "border": null,
      "bottom": null,
      "display": null,
      "flex": null,
      "flex_flow": null,
      "grid_area": null,
      "grid_auto_columns": null,
      "grid_auto_flow": null,
      "grid_auto_rows": null,
      "grid_column": null,
      "grid_gap": null,
      "grid_row": null,
      "grid_template_areas": null,
      "grid_template_columns": null,
      "grid_template_rows": null,
      "height": null,
      "justify_content": null,
      "justify_items": null,
      "left": null,
      "margin": null,
      "max_height": null,
      "max_width": null,
      "min_height": null,
      "min_width": null,
      "object_fit": null,
      "object_position": null,
      "order": null,
      "overflow": null,
      "overflow_x": null,
      "overflow_y": null,
      "padding": null,
      "right": null,
      "top": null,
      "visibility": null,
      "width": null
     }
    },
    "9a978b4f75ed48d7b0097146103df74e": {
     "model_module": "@jupyter-widgets/base",
     "model_module_version": "1.2.0",
     "model_name": "LayoutModel",
     "state": {
      "_model_module": "@jupyter-widgets/base",
      "_model_module_version": "1.2.0",
      "_model_name": "LayoutModel",
      "_view_count": null,
      "_view_module": "@jupyter-widgets/base",
      "_view_module_version": "1.2.0",
      "_view_name": "LayoutView",
      "align_content": null,
      "align_items": null,
      "align_self": null,
      "border": null,
      "bottom": null,
      "display": null,
      "flex": null,
      "flex_flow": null,
      "grid_area": null,
      "grid_auto_columns": null,
      "grid_auto_flow": null,
      "grid_auto_rows": null,
      "grid_column": null,
      "grid_gap": null,
      "grid_row": null,
      "grid_template_areas": null,
      "grid_template_columns": null,
      "grid_template_rows": null,
      "height": null,
      "justify_content": null,
      "justify_items": null,
      "left": null,
      "margin": null,
      "max_height": null,
      "max_width": null,
      "min_height": null,
      "min_width": null,
      "object_fit": null,
      "object_position": null,
      "order": null,
      "overflow": null,
      "overflow_x": null,
      "overflow_y": null,
      "padding": null,
      "right": null,
      "top": null,
      "visibility": null,
      "width": null
     }
    },
    "9d1fb57f64fc4b5ca6b45e576c005593": {
     "model_module": "@jupyter-widgets/controls",
     "model_module_version": "1.5.0",
     "model_name": "ProgressStyleModel",
     "state": {
      "_model_module": "@jupyter-widgets/controls",
      "_model_module_version": "1.5.0",
      "_model_name": "ProgressStyleModel",
      "_view_count": null,
      "_view_module": "@jupyter-widgets/base",
      "_view_module_version": "1.2.0",
      "_view_name": "StyleView",
      "bar_color": null,
      "description_width": ""
     }
    },
    "a68f360a88d542569ae104f9f3aa8a9b": {
     "model_module": "@jupyter-widgets/base",
     "model_module_version": "1.2.0",
     "model_name": "LayoutModel",
     "state": {
      "_model_module": "@jupyter-widgets/base",
      "_model_module_version": "1.2.0",
      "_model_name": "LayoutModel",
      "_view_count": null,
      "_view_module": "@jupyter-widgets/base",
      "_view_module_version": "1.2.0",
      "_view_name": "LayoutView",
      "align_content": null,
      "align_items": null,
      "align_self": null,
      "border": null,
      "bottom": null,
      "display": null,
      "flex": null,
      "flex_flow": null,
      "grid_area": null,
      "grid_auto_columns": null,
      "grid_auto_flow": null,
      "grid_auto_rows": null,
      "grid_column": null,
      "grid_gap": null,
      "grid_row": null,
      "grid_template_areas": null,
      "grid_template_columns": null,
      "grid_template_rows": null,
      "height": null,
      "justify_content": null,
      "justify_items": null,
      "left": null,
      "margin": null,
      "max_height": null,
      "max_width": null,
      "min_height": null,
      "min_width": null,
      "object_fit": null,
      "object_position": null,
      "order": null,
      "overflow": null,
      "overflow_x": null,
      "overflow_y": null,
      "padding": null,
      "right": null,
      "top": null,
      "visibility": null,
      "width": null
     }
    },
    "a80dd3045a634360af27b58714bb0aef": {
     "model_module": "@jupyter-widgets/controls",
     "model_module_version": "1.5.0",
     "model_name": "HBoxModel",
     "state": {
      "_dom_classes": [],
      "_model_module": "@jupyter-widgets/controls",
      "_model_module_version": "1.5.0",
      "_model_name": "HBoxModel",
      "_view_count": null,
      "_view_module": "@jupyter-widgets/controls",
      "_view_module_version": "1.5.0",
      "_view_name": "HBoxView",
      "box_style": "",
      "children": [
       "IPY_MODEL_d8d5b2e4be134cae98f9a26e3b05fa08",
       "IPY_MODEL_761649b15730451c933cfc644f41d6b2",
       "IPY_MODEL_f2aaea289ef64659954e7e9c481aa45b"
      ],
      "layout": "IPY_MODEL_8289c156a61e482896a78732f4122752"
     }
    },
    "abb363e1aa75463791a08974b59bf7bd": {
     "model_module": "@jupyter-widgets/controls",
     "model_module_version": "1.5.0",
     "model_name": "HBoxModel",
     "state": {
      "_dom_classes": [],
      "_model_module": "@jupyter-widgets/controls",
      "_model_module_version": "1.5.0",
      "_model_name": "HBoxModel",
      "_view_count": null,
      "_view_module": "@jupyter-widgets/controls",
      "_view_module_version": "1.5.0",
      "_view_name": "HBoxView",
      "box_style": "",
      "children": [
       "IPY_MODEL_877ae66384fb49669b6b3b04838121ff",
       "IPY_MODEL_ff8254e744fb4f71a1f44139c45f0f26",
       "IPY_MODEL_5905bdefc4424330918ec7c7cd806a3a"
      ],
      "layout": "IPY_MODEL_e7ad1899d7a440348e1f1c39ea97cdb2"
     }
    },
    "b35e45b72726457caab05f37c4cb9dd4": {
     "model_module": "@jupyter-widgets/controls",
     "model_module_version": "1.5.0",
     "model_name": "HBoxModel",
     "state": {
      "_dom_classes": [],
      "_model_module": "@jupyter-widgets/controls",
      "_model_module_version": "1.5.0",
      "_model_name": "HBoxModel",
      "_view_count": null,
      "_view_module": "@jupyter-widgets/controls",
      "_view_module_version": "1.5.0",
      "_view_name": "HBoxView",
      "box_style": "",
      "children": [
       "IPY_MODEL_41674a0dc4a24ed1ad17284f651ec6b1",
       "IPY_MODEL_00c5fa213042435d948db1c3eadaa4fb",
       "IPY_MODEL_2ba9f2ede3894b2cbf64ea9a81733726"
      ],
      "layout": "IPY_MODEL_f18742d129bc472e8fea89d7c5c16839"
     }
    },
    "c2f98f637a2a4c66a4818a7b34bae950": {
     "model_module": "@jupyter-widgets/controls",
     "model_module_version": "1.5.0",
     "model_name": "HTMLModel",
     "state": {
      "_dom_classes": [],
      "_model_module": "@jupyter-widgets/controls",
      "_model_module_version": "1.5.0",
      "_model_name": "HTMLModel",
      "_view_count": null,
      "_view_module": "@jupyter-widgets/controls",
      "_view_module_version": "1.5.0",
      "_view_name": "HTMLView",
      "description": "",
      "description_tooltip": null,
      "layout": "IPY_MODEL_54f98f446a6b4d31844ba09074629ad8",
      "placeholder": "​",
      "style": "IPY_MODEL_d4a7f9c501274dd5b3f97451ef6a1b41",
      "value": ""
     }
    },
    "c4de484aa51f43a59385cdef0371e637": {
     "model_module": "@jupyter-widgets/controls",
     "model_module_version": "1.5.0",
     "model_name": "DescriptionStyleModel",
     "state": {
      "_model_module": "@jupyter-widgets/controls",
      "_model_module_version": "1.5.0",
      "_model_name": "DescriptionStyleModel",
      "_view_count": null,
      "_view_module": "@jupyter-widgets/base",
      "_view_module_version": "1.2.0",
      "_view_name": "StyleView",
      "description_width": ""
     }
    },
    "d3ad44cedd174213b87a8c59fbd8d597": {
     "model_module": "@jupyter-widgets/base",
     "model_module_version": "1.2.0",
     "model_name": "LayoutModel",
     "state": {
      "_model_module": "@jupyter-widgets/base",
      "_model_module_version": "1.2.0",
      "_model_name": "LayoutModel",
      "_view_count": null,
      "_view_module": "@jupyter-widgets/base",
      "_view_module_version": "1.2.0",
      "_view_name": "LayoutView",
      "align_content": null,
      "align_items": null,
      "align_self": null,
      "border": null,
      "bottom": null,
      "display": null,
      "flex": null,
      "flex_flow": null,
      "grid_area": null,
      "grid_auto_columns": null,
      "grid_auto_flow": null,
      "grid_auto_rows": null,
      "grid_column": null,
      "grid_gap": null,
      "grid_row": null,
      "grid_template_areas": null,
      "grid_template_columns": null,
      "grid_template_rows": null,
      "height": null,
      "justify_content": null,
      "justify_items": null,
      "left": null,
      "margin": null,
      "max_height": null,
      "max_width": null,
      "min_height": null,
      "min_width": null,
      "object_fit": null,
      "object_position": null,
      "order": null,
      "overflow": null,
      "overflow_x": null,
      "overflow_y": null,
      "padding": null,
      "right": null,
      "top": null,
      "visibility": null,
      "width": null
     }
    },
    "d4a7f9c501274dd5b3f97451ef6a1b41": {
     "model_module": "@jupyter-widgets/controls",
     "model_module_version": "1.5.0",
     "model_name": "DescriptionStyleModel",
     "state": {
      "_model_module": "@jupyter-widgets/controls",
      "_model_module_version": "1.5.0",
      "_model_name": "DescriptionStyleModel",
      "_view_count": null,
      "_view_module": "@jupyter-widgets/base",
      "_view_module_version": "1.2.0",
      "_view_name": "StyleView",
      "description_width": ""
     }
    },
    "d8d5b2e4be134cae98f9a26e3b05fa08": {
     "model_module": "@jupyter-widgets/controls",
     "model_module_version": "1.5.0",
     "model_name": "HTMLModel",
     "state": {
      "_dom_classes": [],
      "_model_module": "@jupyter-widgets/controls",
      "_model_module_version": "1.5.0",
      "_model_name": "HTMLModel",
      "_view_count": null,
      "_view_module": "@jupyter-widgets/controls",
      "_view_module_version": "1.5.0",
      "_view_name": "HTMLView",
      "description": "",
      "description_tooltip": null,
      "layout": "IPY_MODEL_43ab11ca20b9408a8121a7d51cf81932",
      "placeholder": "​",
      "style": "IPY_MODEL_11b0cf61dea643b5b4c59a3b191cff71",
      "value": ""
     }
    },
    "dd99c79a4556462caf6ae6fa5039c784": {
     "model_module": "@jupyter-widgets/base",
     "model_module_version": "1.2.0",
     "model_name": "LayoutModel",
     "state": {
      "_model_module": "@jupyter-widgets/base",
      "_model_module_version": "1.2.0",
      "_model_name": "LayoutModel",
      "_view_count": null,
      "_view_module": "@jupyter-widgets/base",
      "_view_module_version": "1.2.0",
      "_view_name": "LayoutView",
      "align_content": null,
      "align_items": null,
      "align_self": null,
      "border": null,
      "bottom": null,
      "display": null,
      "flex": null,
      "flex_flow": null,
      "grid_area": null,
      "grid_auto_columns": null,
      "grid_auto_flow": null,
      "grid_auto_rows": null,
      "grid_column": null,
      "grid_gap": null,
      "grid_row": null,
      "grid_template_areas": null,
      "grid_template_columns": null,
      "grid_template_rows": null,
      "height": null,
      "justify_content": null,
      "justify_items": null,
      "left": null,
      "margin": null,
      "max_height": null,
      "max_width": null,
      "min_height": null,
      "min_width": null,
      "object_fit": null,
      "object_position": null,
      "order": null,
      "overflow": null,
      "overflow_x": null,
      "overflow_y": null,
      "padding": null,
      "right": null,
      "top": null,
      "visibility": null,
      "width": null
     }
    },
    "e695c37012164055bd885aa5737eead9": {
     "model_module": "@jupyter-widgets/controls",
     "model_module_version": "1.5.0",
     "model_name": "DescriptionStyleModel",
     "state": {
      "_model_module": "@jupyter-widgets/controls",
      "_model_module_version": "1.5.0",
      "_model_name": "DescriptionStyleModel",
      "_view_count": null,
      "_view_module": "@jupyter-widgets/base",
      "_view_module_version": "1.2.0",
      "_view_name": "StyleView",
      "description_width": ""
     }
    },
    "e7ad1899d7a440348e1f1c39ea97cdb2": {
     "model_module": "@jupyter-widgets/base",
     "model_module_version": "1.2.0",
     "model_name": "LayoutModel",
     "state": {
      "_model_module": "@jupyter-widgets/base",
      "_model_module_version": "1.2.0",
      "_model_name": "LayoutModel",
      "_view_count": null,
      "_view_module": "@jupyter-widgets/base",
      "_view_module_version": "1.2.0",
      "_view_name": "LayoutView",
      "align_content": null,
      "align_items": null,
      "align_self": null,
      "border": null,
      "bottom": null,
      "display": null,
      "flex": null,
      "flex_flow": null,
      "grid_area": null,
      "grid_auto_columns": null,
      "grid_auto_flow": null,
      "grid_auto_rows": null,
      "grid_column": null,
      "grid_gap": null,
      "grid_row": null,
      "grid_template_areas": null,
      "grid_template_columns": null,
      "grid_template_rows": null,
      "height": null,
      "justify_content": null,
      "justify_items": null,
      "left": null,
      "margin": null,
      "max_height": null,
      "max_width": null,
      "min_height": null,
      "min_width": null,
      "object_fit": null,
      "object_position": null,
      "order": null,
      "overflow": null,
      "overflow_x": null,
      "overflow_y": null,
      "padding": null,
      "right": null,
      "top": null,
      "visibility": null,
      "width": null
     }
    },
    "ecb3089207e046bcb8f20d68a91de572": {
     "model_module": "@jupyter-widgets/controls",
     "model_module_version": "1.5.0",
     "model_name": "HBoxModel",
     "state": {
      "_dom_classes": [],
      "_model_module": "@jupyter-widgets/controls",
      "_model_module_version": "1.5.0",
      "_model_name": "HBoxModel",
      "_view_count": null,
      "_view_module": "@jupyter-widgets/controls",
      "_view_module_version": "1.5.0",
      "_view_name": "HBoxView",
      "box_style": "",
      "children": [
       "IPY_MODEL_c2f98f637a2a4c66a4818a7b34bae950",
       "IPY_MODEL_3881a92072794a869b9a8ef5259a6cb7",
       "IPY_MODEL_0a7f2bd42f864dfea3181039bd16d890"
      ],
      "layout": "IPY_MODEL_3b1dfe7308574fd5be6e45de85b6ebc5"
     }
    },
    "f18742d129bc472e8fea89d7c5c16839": {
     "model_module": "@jupyter-widgets/base",
     "model_module_version": "1.2.0",
     "model_name": "LayoutModel",
     "state": {
      "_model_module": "@jupyter-widgets/base",
      "_model_module_version": "1.2.0",
      "_model_name": "LayoutModel",
      "_view_count": null,
      "_view_module": "@jupyter-widgets/base",
      "_view_module_version": "1.2.0",
      "_view_name": "LayoutView",
      "align_content": null,
      "align_items": null,
      "align_self": null,
      "border": null,
      "bottom": null,
      "display": null,
      "flex": null,
      "flex_flow": null,
      "grid_area": null,
      "grid_auto_columns": null,
      "grid_auto_flow": null,
      "grid_auto_rows": null,
      "grid_column": null,
      "grid_gap": null,
      "grid_row": null,
      "grid_template_areas": null,
      "grid_template_columns": null,
      "grid_template_rows": null,
      "height": null,
      "justify_content": null,
      "justify_items": null,
      "left": null,
      "margin": null,
      "max_height": null,
      "max_width": null,
      "min_height": null,
      "min_width": null,
      "object_fit": null,
      "object_position": null,
      "order": null,
      "overflow": null,
      "overflow_x": null,
      "overflow_y": null,
      "padding": null,
      "right": null,
      "top": null,
      "visibility": null,
      "width": null
     }
    },
    "f2aaea289ef64659954e7e9c481aa45b": {
     "model_module": "@jupyter-widgets/controls",
     "model_module_version": "1.5.0",
     "model_name": "HTMLModel",
     "state": {
      "_dom_classes": [],
      "_model_module": "@jupyter-widgets/controls",
      "_model_module_version": "1.5.0",
      "_model_name": "HTMLModel",
      "_view_count": null,
      "_view_module": "@jupyter-widgets/controls",
      "_view_module_version": "1.5.0",
      "_view_name": "HTMLView",
      "description": "",
      "description_tooltip": null,
      "layout": "IPY_MODEL_d3ad44cedd174213b87a8c59fbd8d597",
      "placeholder": "​",
      "style": "IPY_MODEL_40ed870f647147b393afdc74b3e4807e",
      "value": " 5120/? [00:00&lt;00:00, 139289.61it/s]"
     }
    },
    "fc03b17fb8a841c6a401530d0a98961c": {
     "model_module": "@jupyter-widgets/controls",
     "model_module_version": "1.5.0",
     "model_name": "DescriptionStyleModel",
     "state": {
      "_model_module": "@jupyter-widgets/controls",
      "_model_module_version": "1.5.0",
      "_model_name": "DescriptionStyleModel",
      "_view_count": null,
      "_view_module": "@jupyter-widgets/base",
      "_view_module_version": "1.2.0",
      "_view_name": "StyleView",
      "description_width": ""
     }
    },
    "ff8254e744fb4f71a1f44139c45f0f26": {
     "model_module": "@jupyter-widgets/controls",
     "model_module_version": "1.5.0",
     "model_name": "FloatProgressModel",
     "state": {
      "_dom_classes": [],
      "_model_module": "@jupyter-widgets/controls",
      "_model_module_version": "1.5.0",
      "_model_name": "FloatProgressModel",
      "_view_count": null,
      "_view_module": "@jupyter-widgets/controls",
      "_view_module_version": "1.5.0",
      "_view_name": "ProgressView",
      "bar_style": "success",
      "description": "",
      "description_tooltip": null,
      "layout": "IPY_MODEL_40c866c1d4b445a68427c07ffe2613b5",
      "max": 28881,
      "min": 0,
      "orientation": "horizontal",
      "style": "IPY_MODEL_9d1fb57f64fc4b5ca6b45e576c005593",
      "value": 28881
     }
    }
   }
  }
 },
 "nbformat": 4,
 "nbformat_minor": 4
}
